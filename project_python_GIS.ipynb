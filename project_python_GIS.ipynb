{
 "cells": [
  {
   "cell_type": "markdown",
   "id": "a3ded8a5",
   "metadata": {},
   "source": [
    "# การรวบรวมและวิเคราะห์ข้อมูลทางด้านเกษตรกรรมและสิ่งแวดล้อมผ่านการประยุกต์ใช้ Python ร่วมกับ Google Earth Engine API ในพื้นที่จังหวัดภาคเหนือตอนล่าง"
   ]
  },
  {
   "cell_type": "markdown",
   "id": "b028f4c4",
   "metadata": {},
   "source": [
    "การรวบรวมและวิเคราะห์ข้อมูลทางด้านเกษตรกรรมและสิ่งแวดล้อมผ่านการประยุกต์ใช้ Python ร่วมกับ Google Earth Engine API ในพื้นที่จังหวัดภาคเหนือตอนล่าง เป็นกระบวนการที่ใช้เทคโนโลยีและเครื่องมือทางด้านดิจิทัลเพื่อดึงข้อมูลด้านดินและทางอุตสาหกรรมจาก Google Earth Engine (GEE) ซึ่งเป็นแพลตฟอร์มที่ให้บริการข้อมูลดิจิทัลผ่านการประมวลผลภาพจากดาวเทียม"
   ]
  },
  {
   "cell_type": "markdown",
   "id": "01172c8f",
   "metadata": {},
   "source": [
    "# ขั้นตอนการดึงข้อมูลและวิเคราะห์ข้อมูลทางด้านเกษตรกรรมและสิ่งแวดล้อมที่ใช้ Python ร่วมกับ Google Earth Engine API มีลักษณะดังนี้:"
   ]
  },
  {
   "cell_type": "markdown",
   "id": "3592d83c",
   "metadata": {},
   "source": [
    "ฟังก์ชันที่ใช้ติดตั้งแพ็กเกจ (packages) เหล่านี้มีวัตถุประสงค์เพื่อให้สามารถใช้งาน Google Earth Engine (EE) API ร่วมกับ geemap และ folium ได้ในสภาพแวดล้อม Python ของคุณ:"
   ]
  },
  {
   "cell_type": "code",
   "execution_count": 2,
   "id": "b7635198",
   "metadata": {},
   "outputs": [
    {
     "data": {
      "text/html": [
       "\n",
       "            <style>\n",
       "                .geemap-dark {\n",
       "                    --jp-widgets-color: white;\n",
       "                    --jp-widgets-label-color: white;\n",
       "                    --jp-ui-font-color1: white;\n",
       "                    --jp-layout-color2: #454545;\n",
       "                    background-color: #383838;\n",
       "                }\n",
       "                    \n",
       "                .geemap-dark .jupyter-button {\n",
       "                    --jp-layout-color3: #383838;\n",
       "                }\n",
       "                \n",
       "                .geemap-colab {\n",
       "                    background-color: var(--colab-primary-surface-color, white);\n",
       "                }\n",
       "                    \n",
       "                .geemap-colab .jupyter-button {\n",
       "                    --jp-layout-color3: var(--colab-primary-surface-color, white);\n",
       "                }\n",
       "            </style>\n",
       "            "
      ],
      "text/plain": [
       "<IPython.core.display.HTML object>"
      ]
     },
     "metadata": {},
     "output_type": "display_data"
    },
    {
     "name": "stdout",
     "output_type": "stream",
     "text": [
      "Defaulting to user installation because normal site-packages is not writeable\n",
      "Requirement already satisfied: earthengine-api in c:\\users\\acer\\appdata\\roaming\\python\\python39\\site-packages (0.1.378)\n",
      "Requirement already satisfied: requests in c:\\programdata\\anaconda3\\lib\\site-packages (from earthengine-api) (2.27.1)\n",
      "Requirement already satisfied: google-cloud-storage in c:\\users\\acer\\appdata\\roaming\\python\\python39\\site-packages (from earthengine-api) (2.13.0)\n",
      "Requirement already satisfied: google-api-python-client>=1.12.1 in c:\\users\\acer\\appdata\\roaming\\python\\python39\\site-packages (from earthengine-api) (2.107.0)\n",
      "Requirement already satisfied: google-auth>=1.4.1 in c:\\users\\acer\\appdata\\roaming\\python\\python39\\site-packages (from earthengine-api) (2.23.4)\n",
      "Requirement already satisfied: httplib2<1dev,>=0.9.2 in c:\\users\\acer\\appdata\\roaming\\python\\python39\\site-packages (from earthengine-api) (0.22.0)\n",
      "Requirement already satisfied: google-auth-httplib2>=0.0.3 in c:\\users\\acer\\appdata\\roaming\\python\\python39\\site-packages (from earthengine-api) (0.1.1)\n",
      "Requirement already satisfied: google-api-core!=2.0.*,!=2.1.*,!=2.2.*,!=2.3.0,<3.0.0.dev0,>=1.31.5 in c:\\users\\acer\\appdata\\roaming\\python\\python39\\site-packages (from google-api-python-client>=1.12.1->earthengine-api) (2.14.0)\n",
      "Requirement already satisfied: uritemplate<5,>=3.0.1 in c:\\users\\acer\\appdata\\roaming\\python\\python39\\site-packages (from google-api-python-client>=1.12.1->earthengine-api) (4.1.1)\n",
      "Requirement already satisfied: protobuf!=3.20.0,!=3.20.1,!=4.21.0,!=4.21.1,!=4.21.2,!=4.21.3,!=4.21.4,!=4.21.5,<5.0.0.dev0,>=3.19.5 in c:\\users\\acer\\appdata\\roaming\\python\\python39\\site-packages (from google-api-core!=2.0.*,!=2.1.*,!=2.2.*,!=2.3.0,<3.0.0.dev0,>=1.31.5->google-api-python-client>=1.12.1->earthengine-api) (4.25.0)\n",
      "Requirement already satisfied: googleapis-common-protos<2.0.dev0,>=1.56.2 in c:\\users\\acer\\appdata\\roaming\\python\\python39\\site-packages (from google-api-core!=2.0.*,!=2.1.*,!=2.2.*,!=2.3.0,<3.0.0.dev0,>=1.31.5->google-api-python-client>=1.12.1->earthengine-api) (1.61.0)\n",
      "Requirement already satisfied: pyasn1-modules>=0.2.1 in c:\\programdata\\anaconda3\\lib\\site-packages (from google-auth>=1.4.1->earthengine-api) (0.2.8)\n",
      "Requirement already satisfied: rsa<5,>=3.1.4 in c:\\programdata\\anaconda3\\lib\\site-packages (from google-auth>=1.4.1->earthengine-api) (4.7.2)\n",
      "Requirement already satisfied: cachetools<6.0,>=2.0.0 in c:\\programdata\\anaconda3\\lib\\site-packages (from google-auth>=1.4.1->earthengine-api) (4.2.2)\n",
      "Requirement already satisfied: pyparsing!=3.0.0,!=3.0.1,!=3.0.2,!=3.0.3,<4,>=2.4.2 in c:\\programdata\\anaconda3\\lib\\site-packages (from httplib2<1dev,>=0.9.2->earthengine-api) (3.0.4)\n",
      "Requirement already satisfied: pyasn1<0.5.0,>=0.4.6 in c:\\programdata\\anaconda3\\lib\\site-packages (from pyasn1-modules>=0.2.1->google-auth>=1.4.1->earthengine-api) (0.4.8)\n",
      "Requirement already satisfied: urllib3<1.27,>=1.21.1 in c:\\programdata\\anaconda3\\lib\\site-packages (from requests->earthengine-api) (1.26.9)\n",
      "Requirement already satisfied: certifi>=2017.4.17 in c:\\programdata\\anaconda3\\lib\\site-packages (from requests->earthengine-api) (2021.10.8)\n",
      "Requirement already satisfied: idna<4,>=2.5 in c:\\programdata\\anaconda3\\lib\\site-packages (from requests->earthengine-api) (3.3)\n",
      "Requirement already satisfied: charset-normalizer~=2.0.0 in c:\\programdata\\anaconda3\\lib\\site-packages (from requests->earthengine-api) (2.0.4)\n",
      "Requirement already satisfied: google-resumable-media>=2.6.0 in c:\\users\\acer\\appdata\\roaming\\python\\python39\\site-packages (from google-cloud-storage->earthengine-api) (2.6.0)\n",
      "Requirement already satisfied: google-cloud-core<3.0dev,>=2.3.0 in c:\\users\\acer\\appdata\\roaming\\python\\python39\\site-packages (from google-cloud-storage->earthengine-api) (2.3.3)\n",
      "Requirement already satisfied: google-crc32c<2.0dev,>=1.0 in c:\\programdata\\anaconda3\\lib\\site-packages (from google-cloud-storage->earthengine-api) (1.1.2)\n",
      "Requirement already satisfied: cffi>=1.0.0 in c:\\programdata\\anaconda3\\lib\\site-packages (from google-crc32c<2.0dev,>=1.0->google-cloud-storage->earthengine-api) (1.15.0)\n",
      "Requirement already satisfied: pycparser in c:\\programdata\\anaconda3\\lib\\site-packages (from cffi>=1.0.0->google-crc32c<2.0dev,>=1.0->google-cloud-storage->earthengine-api) (2.21)\n",
      "Defaulting to user installation because normal site-packages is not writeable\n",
      "Requirement already satisfied: geemap in c:\\users\\acer\\appdata\\roaming\\python\\python39\\site-packages (0.29.5)\n",
      "Requirement already satisfied: colour in c:\\users\\acer\\appdata\\roaming\\python\\python39\\site-packages (from geemap) (0.1.5)\n",
      "Requirement already satisfied: ipyfilechooser>=0.6.0 in c:\\users\\acer\\appdata\\roaming\\python\\python39\\site-packages (from geemap) (0.6.0)\n",
      "Requirement already satisfied: ipyleaflet>=0.17.0 in c:\\users\\acer\\appdata\\roaming\\python\\python39\\site-packages (from geemap) (0.17.4)\n",
      "Requirement already satisfied: eerepr>=0.0.4 in c:\\users\\acer\\appdata\\roaming\\python\\python39\\site-packages (from geemap) (0.0.4)\n",
      "Requirement already satisfied: pyshp>=2.1.3 in c:\\users\\acer\\appdata\\roaming\\python\\python39\\site-packages (from geemap) (2.3.1)\n",
      "Requirement already satisfied: folium>=0.13.0 in c:\\users\\acer\\appdata\\roaming\\python\\python39\\site-packages (from geemap) (0.15.0)\n",
      "Requirement already satisfied: ipyevents in c:\\users\\acer\\appdata\\roaming\\python\\python39\\site-packages (from geemap) (2.0.2)\n",
      "Requirement already satisfied: python-box in c:\\users\\acer\\appdata\\roaming\\python\\python39\\site-packages (from geemap) (7.1.1)\n",
      "Requirement already satisfied: pyperclip in c:\\users\\acer\\appdata\\roaming\\python\\python39\\site-packages (from geemap) (1.8.2)\n",
      "Requirement already satisfied: ipytree in c:\\users\\acer\\appdata\\roaming\\python\\python39\\site-packages (from geemap) (0.2.2)\n",
      "Requirement already satisfied: geocoder in c:\\users\\acer\\appdata\\roaming\\python\\python39\\site-packages (from geemap) (1.38.1)\n",
      "Requirement already satisfied: scooby in c:\\users\\acer\\appdata\\roaming\\python\\python39\\site-packages (from geemap) (0.9.2)\n",
      "Requirement already satisfied: earthengine-api>=0.1.347 in c:\\users\\acer\\appdata\\roaming\\python\\python39\\site-packages (from geemap) (0.1.378)\n",
      "Requirement already satisfied: plotly in c:\\programdata\\anaconda3\\lib\\site-packages (from geemap) (5.6.0)\n",
      "Requirement already satisfied: bqplot in c:\\users\\acer\\appdata\\roaming\\python\\python39\\site-packages (from geemap) (0.12.42)\n",
      "Requirement already satisfied: pandas in c:\\programdata\\anaconda3\\lib\\site-packages (from geemap) (1.4.2)\n",
      "Requirement already satisfied: numpy in c:\\programdata\\anaconda3\\lib\\site-packages (from geemap) (1.21.5)\n",
      "Requirement already satisfied: matplotlib in c:\\programdata\\anaconda3\\lib\\site-packages (from geemap) (3.5.1)\n",
      "Requirement already satisfied: requests in c:\\programdata\\anaconda3\\lib\\site-packages (from earthengine-api>=0.1.347->geemap) (2.27.1)\n",
      "Requirement already satisfied: google-cloud-storage in c:\\users\\acer\\appdata\\roaming\\python\\python39\\site-packages (from earthengine-api>=0.1.347->geemap) (2.13.0)\n",
      "Requirement already satisfied: google-auth>=1.4.1 in c:\\users\\acer\\appdata\\roaming\\python\\python39\\site-packages (from earthengine-api>=0.1.347->geemap) (2.23.4)\n",
      "Requirement already satisfied: google-auth-httplib2>=0.0.3 in c:\\users\\acer\\appdata\\roaming\\python\\python39\\site-packages (from earthengine-api>=0.1.347->geemap) (0.1.1)\n",
      "Requirement already satisfied: google-api-python-client>=1.12.1 in c:\\users\\acer\\appdata\\roaming\\python\\python39\\site-packages (from earthengine-api>=0.1.347->geemap) (2.107.0)\n",
      "Requirement already satisfied: httplib2<1dev,>=0.9.2 in c:\\users\\acer\\appdata\\roaming\\python\\python39\\site-packages (from earthengine-api>=0.1.347->geemap) (0.22.0)\n",
      "Requirement already satisfied: branca>=0.6.0 in c:\\users\\acer\\appdata\\roaming\\python\\python39\\site-packages (from folium>=0.13.0->geemap) (0.7.0)\n",
      "Requirement already satisfied: jinja2>=2.9 in c:\\programdata\\anaconda3\\lib\\site-packages (from folium>=0.13.0->geemap) (2.11.3)\n",
      "Requirement already satisfied: uritemplate<5,>=3.0.1 in c:\\users\\acer\\appdata\\roaming\\python\\python39\\site-packages (from google-api-python-client>=1.12.1->earthengine-api>=0.1.347->geemap) (4.1.1)\n",
      "Requirement already satisfied: google-api-core!=2.0.*,!=2.1.*,!=2.2.*,!=2.3.0,<3.0.0.dev0,>=1.31.5 in c:\\users\\acer\\appdata\\roaming\\python\\python39\\site-packages (from google-api-python-client>=1.12.1->earthengine-api>=0.1.347->geemap) (2.14.0)\n",
      "Requirement already satisfied: protobuf!=3.20.0,!=3.20.1,!=4.21.0,!=4.21.1,!=4.21.2,!=4.21.3,!=4.21.4,!=4.21.5,<5.0.0.dev0,>=3.19.5 in c:\\users\\acer\\appdata\\roaming\\python\\python39\\site-packages (from google-api-core!=2.0.*,!=2.1.*,!=2.2.*,!=2.3.0,<3.0.0.dev0,>=1.31.5->google-api-python-client>=1.12.1->earthengine-api>=0.1.347->geemap) (4.25.0)\n",
      "Requirement already satisfied: googleapis-common-protos<2.0.dev0,>=1.56.2 in c:\\users\\acer\\appdata\\roaming\\python\\python39\\site-packages (from google-api-core!=2.0.*,!=2.1.*,!=2.2.*,!=2.3.0,<3.0.0.dev0,>=1.31.5->google-api-python-client>=1.12.1->earthengine-api>=0.1.347->geemap) (1.61.0)\n",
      "Requirement already satisfied: pyasn1-modules>=0.2.1 in c:\\programdata\\anaconda3\\lib\\site-packages (from google-auth>=1.4.1->earthengine-api>=0.1.347->geemap) (0.2.8)\n",
      "Requirement already satisfied: rsa<5,>=3.1.4 in c:\\programdata\\anaconda3\\lib\\site-packages (from google-auth>=1.4.1->earthengine-api>=0.1.347->geemap) (4.7.2)\n",
      "Requirement already satisfied: cachetools<6.0,>=2.0.0 in c:\\programdata\\anaconda3\\lib\\site-packages (from google-auth>=1.4.1->earthengine-api>=0.1.347->geemap) (4.2.2)\n",
      "Requirement already satisfied: pyparsing!=3.0.0,!=3.0.1,!=3.0.2,!=3.0.3,<4,>=2.4.2 in c:\\programdata\\anaconda3\\lib\\site-packages (from httplib2<1dev,>=0.9.2->earthengine-api>=0.1.347->geemap) (3.0.4)\n",
      "Requirement already satisfied: ipywidgets in c:\\programdata\\anaconda3\\lib\\site-packages (from ipyfilechooser>=0.6.0->geemap) (7.6.5)\n",
      "Requirement already satisfied: traittypes<3,>=0.2.1 in c:\\users\\acer\\appdata\\roaming\\python\\python39\\site-packages (from ipyleaflet>=0.17.0->geemap) (0.2.1)\n",
      "Requirement already satisfied: xyzservices>=2021.8.1 in c:\\users\\acer\\appdata\\roaming\\python\\python39\\site-packages (from ipyleaflet>=0.17.0->geemap) (2023.10.1)\n",
      "Requirement already satisfied: widgetsnbextension~=3.5.0 in c:\\programdata\\anaconda3\\lib\\site-packages (from ipywidgets->ipyfilechooser>=0.6.0->geemap) (3.5.2)\n",
      "Requirement already satisfied: ipython-genutils~=0.2.0 in c:\\programdata\\anaconda3\\lib\\site-packages (from ipywidgets->ipyfilechooser>=0.6.0->geemap) (0.2.0)\n",
      "Requirement already satisfied: ipython>=4.0.0 in c:\\programdata\\anaconda3\\lib\\site-packages (from ipywidgets->ipyfilechooser>=0.6.0->geemap) (8.2.0)\n",
      "Requirement already satisfied: nbformat>=4.2.0 in c:\\programdata\\anaconda3\\lib\\site-packages (from ipywidgets->ipyfilechooser>=0.6.0->geemap) (5.3.0)\n",
      "Requirement already satisfied: traitlets>=4.3.1 in c:\\programdata\\anaconda3\\lib\\site-packages (from ipywidgets->ipyfilechooser>=0.6.0->geemap) (5.1.1)\n",
      "Requirement already satisfied: jupyterlab-widgets>=1.0.0 in c:\\programdata\\anaconda3\\lib\\site-packages (from ipywidgets->ipyfilechooser>=0.6.0->geemap) (1.0.0)\n",
      "Requirement already satisfied: ipykernel>=4.5.1 in c:\\programdata\\anaconda3\\lib\\site-packages (from ipywidgets->ipyfilechooser>=0.6.0->geemap) (6.9.1)\n",
      "Requirement already satisfied: tornado<7.0,>=4.2 in c:\\programdata\\anaconda3\\lib\\site-packages (from ipykernel>=4.5.1->ipywidgets->ipyfilechooser>=0.6.0->geemap) (6.1)\n",
      "Requirement already satisfied: matplotlib-inline<0.2.0,>=0.1.0 in c:\\programdata\\anaconda3\\lib\\site-packages (from ipykernel>=4.5.1->ipywidgets->ipyfilechooser>=0.6.0->geemap) (0.1.2)\n",
      "Requirement already satisfied: debugpy<2.0,>=1.0.0 in c:\\programdata\\anaconda3\\lib\\site-packages (from ipykernel>=4.5.1->ipywidgets->ipyfilechooser>=0.6.0->geemap) (1.5.1)\n",
      "Requirement already satisfied: jupyter-client<8.0 in c:\\programdata\\anaconda3\\lib\\site-packages (from ipykernel>=4.5.1->ipywidgets->ipyfilechooser>=0.6.0->geemap) (6.1.12)\n",
      "Requirement already satisfied: nest-asyncio in c:\\programdata\\anaconda3\\lib\\site-packages (from ipykernel>=4.5.1->ipywidgets->ipyfilechooser>=0.6.0->geemap) (1.5.5)\n",
      "Requirement already satisfied: stack-data in c:\\programdata\\anaconda3\\lib\\site-packages (from ipython>=4.0.0->ipywidgets->ipyfilechooser>=0.6.0->geemap) (0.2.0)\n",
      "Requirement already satisfied: jedi>=0.16 in c:\\programdata\\anaconda3\\lib\\site-packages (from ipython>=4.0.0->ipywidgets->ipyfilechooser>=0.6.0->geemap) (0.18.1)\n",
      "Requirement already satisfied: setuptools>=18.5 in c:\\programdata\\anaconda3\\lib\\site-packages (from ipython>=4.0.0->ipywidgets->ipyfilechooser>=0.6.0->geemap) (61.2.0)\n",
      "Requirement already satisfied: pickleshare in c:\\programdata\\anaconda3\\lib\\site-packages (from ipython>=4.0.0->ipywidgets->ipyfilechooser>=0.6.0->geemap) (0.7.5)\n",
      "Requirement already satisfied: backcall in c:\\programdata\\anaconda3\\lib\\site-packages (from ipython>=4.0.0->ipywidgets->ipyfilechooser>=0.6.0->geemap) (0.2.0)\n",
      "Requirement already satisfied: colorama in c:\\programdata\\anaconda3\\lib\\site-packages (from ipython>=4.0.0->ipywidgets->ipyfilechooser>=0.6.0->geemap) (0.4.4)\n",
      "Requirement already satisfied: prompt-toolkit!=3.0.0,!=3.0.1,<3.1.0,>=2.0.0 in c:\\programdata\\anaconda3\\lib\\site-packages (from ipython>=4.0.0->ipywidgets->ipyfilechooser>=0.6.0->geemap) (3.0.20)\n",
      "Requirement already satisfied: pygments>=2.4.0 in c:\\programdata\\anaconda3\\lib\\site-packages (from ipython>=4.0.0->ipywidgets->ipyfilechooser>=0.6.0->geemap) (2.11.2)\n",
      "Requirement already satisfied: decorator in c:\\programdata\\anaconda3\\lib\\site-packages (from ipython>=4.0.0->ipywidgets->ipyfilechooser>=0.6.0->geemap) (5.1.1)\n",
      "Requirement already satisfied: parso<0.9.0,>=0.8.0 in c:\\programdata\\anaconda3\\lib\\site-packages (from jedi>=0.16->ipython>=4.0.0->ipywidgets->ipyfilechooser>=0.6.0->geemap) (0.8.3)\n",
      "Requirement already satisfied: MarkupSafe>=0.23 in c:\\programdata\\anaconda3\\lib\\site-packages (from jinja2>=2.9->folium>=0.13.0->geemap) (2.0.1)\n",
      "Requirement already satisfied: python-dateutil>=2.1 in c:\\programdata\\anaconda3\\lib\\site-packages (from jupyter-client<8.0->ipykernel>=4.5.1->ipywidgets->ipyfilechooser>=0.6.0->geemap) (2.8.2)\n",
      "Requirement already satisfied: jupyter-core>=4.6.0 in c:\\programdata\\anaconda3\\lib\\site-packages (from jupyter-client<8.0->ipykernel>=4.5.1->ipywidgets->ipyfilechooser>=0.6.0->geemap) (4.9.2)\n",
      "Requirement already satisfied: pyzmq>=13 in c:\\programdata\\anaconda3\\lib\\site-packages (from jupyter-client<8.0->ipykernel>=4.5.1->ipywidgets->ipyfilechooser>=0.6.0->geemap) (22.3.0)\n",
      "Requirement already satisfied: pywin32>=1.0 in c:\\programdata\\anaconda3\\lib\\site-packages (from jupyter-core>=4.6.0->jupyter-client<8.0->ipykernel>=4.5.1->ipywidgets->ipyfilechooser>=0.6.0->geemap) (302)\n",
      "Requirement already satisfied: jsonschema>=2.6 in c:\\programdata\\anaconda3\\lib\\site-packages (from nbformat>=4.2.0->ipywidgets->ipyfilechooser>=0.6.0->geemap) (4.4.0)\n",
      "Requirement already satisfied: fastjsonschema in c:\\programdata\\anaconda3\\lib\\site-packages (from nbformat>=4.2.0->ipywidgets->ipyfilechooser>=0.6.0->geemap) (2.15.1)\n",
      "Requirement already satisfied: attrs>=17.4.0 in c:\\programdata\\anaconda3\\lib\\site-packages (from jsonschema>=2.6->nbformat>=4.2.0->ipywidgets->ipyfilechooser>=0.6.0->geemap) (21.4.0)\n",
      "Requirement already satisfied: pyrsistent!=0.17.0,!=0.17.1,!=0.17.2,>=0.14.0 in c:\\programdata\\anaconda3\\lib\\site-packages (from jsonschema>=2.6->nbformat>=4.2.0->ipywidgets->ipyfilechooser>=0.6.0->geemap) (0.18.0)\n",
      "Requirement already satisfied: wcwidth in c:\\programdata\\anaconda3\\lib\\site-packages (from prompt-toolkit!=3.0.0,!=3.0.1,<3.1.0,>=2.0.0->ipython>=4.0.0->ipywidgets->ipyfilechooser>=0.6.0->geemap) (0.2.5)\n",
      "Requirement already satisfied: pyasn1<0.5.0,>=0.4.6 in c:\\programdata\\anaconda3\\lib\\site-packages (from pyasn1-modules>=0.2.1->google-auth>=1.4.1->earthengine-api>=0.1.347->geemap) (0.4.8)\n",
      "Requirement already satisfied: six>=1.5 in c:\\programdata\\anaconda3\\lib\\site-packages (from python-dateutil>=2.1->jupyter-client<8.0->ipykernel>=4.5.1->ipywidgets->ipyfilechooser>=0.6.0->geemap) (1.16.0)\n",
      "Requirement already satisfied: urllib3<1.27,>=1.21.1 in c:\\programdata\\anaconda3\\lib\\site-packages (from requests->earthengine-api>=0.1.347->geemap) (1.26.9)\n",
      "Requirement already satisfied: idna<4,>=2.5 in c:\\programdata\\anaconda3\\lib\\site-packages (from requests->earthengine-api>=0.1.347->geemap) (3.3)\n",
      "Requirement already satisfied: certifi>=2017.4.17 in c:\\programdata\\anaconda3\\lib\\site-packages (from requests->earthengine-api>=0.1.347->geemap) (2021.10.8)\n",
      "Requirement already satisfied: charset-normalizer~=2.0.0 in c:\\programdata\\anaconda3\\lib\\site-packages (from requests->earthengine-api>=0.1.347->geemap) (2.0.4)\n",
      "Requirement already satisfied: notebook>=4.4.1 in c:\\programdata\\anaconda3\\lib\\site-packages (from widgetsnbextension~=3.5.0->ipywidgets->ipyfilechooser>=0.6.0->geemap) (6.4.8)\n",
      "Requirement already satisfied: nbconvert in c:\\programdata\\anaconda3\\lib\\site-packages (from notebook>=4.4.1->widgetsnbextension~=3.5.0->ipywidgets->ipyfilechooser>=0.6.0->geemap) (6.4.4)\n",
      "Requirement already satisfied: terminado>=0.8.3 in c:\\programdata\\anaconda3\\lib\\site-packages (from notebook>=4.4.1->widgetsnbextension~=3.5.0->ipywidgets->ipyfilechooser>=0.6.0->geemap) (0.13.1)\n",
      "Requirement already satisfied: Send2Trash>=1.8.0 in c:\\programdata\\anaconda3\\lib\\site-packages (from notebook>=4.4.1->widgetsnbextension~=3.5.0->ipywidgets->ipyfilechooser>=0.6.0->geemap) (1.8.0)\n",
      "Requirement already satisfied: prometheus-client in c:\\programdata\\anaconda3\\lib\\site-packages (from notebook>=4.4.1->widgetsnbextension~=3.5.0->ipywidgets->ipyfilechooser>=0.6.0->geemap) (0.13.1)\n",
      "Requirement already satisfied: argon2-cffi in c:\\programdata\\anaconda3\\lib\\site-packages (from notebook>=4.4.1->widgetsnbextension~=3.5.0->ipywidgets->ipyfilechooser>=0.6.0->geemap) (21.3.0)\n",
      "Requirement already satisfied: pywinpty>=1.1.0 in c:\\programdata\\anaconda3\\lib\\site-packages (from terminado>=0.8.3->notebook>=4.4.1->widgetsnbextension~=3.5.0->ipywidgets->ipyfilechooser>=0.6.0->geemap) (2.0.2)\n",
      "Requirement already satisfied: argon2-cffi-bindings in c:\\programdata\\anaconda3\\lib\\site-packages (from argon2-cffi->notebook>=4.4.1->widgetsnbextension~=3.5.0->ipywidgets->ipyfilechooser>=0.6.0->geemap) (21.2.0)\n",
      "Requirement already satisfied: cffi>=1.0.1 in c:\\programdata\\anaconda3\\lib\\site-packages (from argon2-cffi-bindings->argon2-cffi->notebook>=4.4.1->widgetsnbextension~=3.5.0->ipywidgets->ipyfilechooser>=0.6.0->geemap) (1.15.0)\n",
      "Requirement already satisfied: pycparser in c:\\programdata\\anaconda3\\lib\\site-packages (from cffi>=1.0.1->argon2-cffi-bindings->argon2-cffi->notebook>=4.4.1->widgetsnbextension~=3.5.0->ipywidgets->ipyfilechooser>=0.6.0->geemap) (2.21)\n",
      "Requirement already satisfied: pytz>=2020.1 in c:\\programdata\\anaconda3\\lib\\site-packages (from pandas->geemap) (2021.3)\n",
      "Requirement already satisfied: click in c:\\programdata\\anaconda3\\lib\\site-packages (from geocoder->geemap) (8.0.4)\n",
      "Requirement already satisfied: ratelim in c:\\users\\acer\\appdata\\roaming\\python\\python39\\site-packages (from geocoder->geemap) (0.1.6)\n",
      "Requirement already satisfied: future in c:\\programdata\\anaconda3\\lib\\site-packages (from geocoder->geemap) (0.18.2)\n",
      "Requirement already satisfied: google-cloud-core<3.0dev,>=2.3.0 in c:\\users\\acer\\appdata\\roaming\\python\\python39\\site-packages (from google-cloud-storage->earthengine-api>=0.1.347->geemap) (2.3.3)\n",
      "Requirement already satisfied: google-resumable-media>=2.6.0 in c:\\users\\acer\\appdata\\roaming\\python\\python39\\site-packages (from google-cloud-storage->earthengine-api>=0.1.347->geemap) (2.6.0)\n",
      "Requirement already satisfied: google-crc32c<2.0dev,>=1.0 in c:\\programdata\\anaconda3\\lib\\site-packages (from google-cloud-storage->earthengine-api>=0.1.347->geemap) (1.1.2)\n",
      "Requirement already satisfied: packaging>=20.0 in c:\\programdata\\anaconda3\\lib\\site-packages (from matplotlib->geemap) (21.3)\n",
      "Requirement already satisfied: kiwisolver>=1.0.1 in c:\\programdata\\anaconda3\\lib\\site-packages (from matplotlib->geemap) (1.3.2)\n",
      "Requirement already satisfied: cycler>=0.10 in c:\\programdata\\anaconda3\\lib\\site-packages (from matplotlib->geemap) (0.11.0)\n",
      "Requirement already satisfied: fonttools>=4.22.0 in c:\\programdata\\anaconda3\\lib\\site-packages (from matplotlib->geemap) (4.25.0)\n",
      "Requirement already satisfied: pillow>=6.2.0 in c:\\programdata\\anaconda3\\lib\\site-packages (from matplotlib->geemap) (9.0.1)\n",
      "Requirement already satisfied: pandocfilters>=1.4.1 in c:\\programdata\\anaconda3\\lib\\site-packages (from nbconvert->notebook>=4.4.1->widgetsnbextension~=3.5.0->ipywidgets->ipyfilechooser>=0.6.0->geemap) (1.5.0)\n",
      "Requirement already satisfied: entrypoints>=0.2.2 in c:\\programdata\\anaconda3\\lib\\site-packages (from nbconvert->notebook>=4.4.1->widgetsnbextension~=3.5.0->ipywidgets->ipyfilechooser>=0.6.0->geemap) (0.4)\n",
      "Requirement already satisfied: defusedxml in c:\\programdata\\anaconda3\\lib\\site-packages (from nbconvert->notebook>=4.4.1->widgetsnbextension~=3.5.0->ipywidgets->ipyfilechooser>=0.6.0->geemap) (0.7.1)\n",
      "Requirement already satisfied: nbclient<0.6.0,>=0.5.0 in c:\\programdata\\anaconda3\\lib\\site-packages (from nbconvert->notebook>=4.4.1->widgetsnbextension~=3.5.0->ipywidgets->ipyfilechooser>=0.6.0->geemap) (0.5.13)\n",
      "Requirement already satisfied: beautifulsoup4 in c:\\programdata\\anaconda3\\lib\\site-packages (from nbconvert->notebook>=4.4.1->widgetsnbextension~=3.5.0->ipywidgets->ipyfilechooser>=0.6.0->geemap) (4.11.1)\n",
      "Requirement already satisfied: mistune<2,>=0.8.1 in c:\\programdata\\anaconda3\\lib\\site-packages (from nbconvert->notebook>=4.4.1->widgetsnbextension~=3.5.0->ipywidgets->ipyfilechooser>=0.6.0->geemap) (0.8.4)\n",
      "Requirement already satisfied: jupyterlab-pygments in c:\\programdata\\anaconda3\\lib\\site-packages (from nbconvert->notebook>=4.4.1->widgetsnbextension~=3.5.0->ipywidgets->ipyfilechooser>=0.6.0->geemap) (0.1.2)\n",
      "Requirement already satisfied: bleach in c:\\programdata\\anaconda3\\lib\\site-packages (from nbconvert->notebook>=4.4.1->widgetsnbextension~=3.5.0->ipywidgets->ipyfilechooser>=0.6.0->geemap) (4.1.0)\n",
      "Requirement already satisfied: testpath in c:\\programdata\\anaconda3\\lib\\site-packages (from nbconvert->notebook>=4.4.1->widgetsnbextension~=3.5.0->ipywidgets->ipyfilechooser>=0.6.0->geemap) (0.5.0)\n",
      "Requirement already satisfied: soupsieve>1.2 in c:\\programdata\\anaconda3\\lib\\site-packages (from beautifulsoup4->nbconvert->notebook>=4.4.1->widgetsnbextension~=3.5.0->ipywidgets->ipyfilechooser>=0.6.0->geemap) (2.3.1)\n",
      "Requirement already satisfied: webencodings in c:\\programdata\\anaconda3\\lib\\site-packages (from bleach->nbconvert->notebook>=4.4.1->widgetsnbextension~=3.5.0->ipywidgets->ipyfilechooser>=0.6.0->geemap) (0.5.1)\n",
      "Requirement already satisfied: tenacity>=6.2.0 in c:\\programdata\\anaconda3\\lib\\site-packages (from plotly->geemap) (8.0.1)\n",
      "Requirement already satisfied: executing in c:\\programdata\\anaconda3\\lib\\site-packages (from stack-data->ipython>=4.0.0->ipywidgets->ipyfilechooser>=0.6.0->geemap) (0.8.3)\n",
      "Requirement already satisfied: asttokens in c:\\programdata\\anaconda3\\lib\\site-packages (from stack-data->ipython>=4.0.0->ipywidgets->ipyfilechooser>=0.6.0->geemap) (2.0.5)\n",
      "Requirement already satisfied: pure-eval in c:\\programdata\\anaconda3\\lib\\site-packages (from stack-data->ipython>=4.0.0->ipywidgets->ipyfilechooser>=0.6.0->geemap) (0.2.2)\n"
     ]
    },
    {
     "name": "stdout",
     "output_type": "stream",
     "text": [
      "Defaulting to user installation because normal site-packages is not writeable\n",
      "Requirement already satisfied: folium in c:\\users\\acer\\appdata\\roaming\\python\\python39\\site-packages (0.15.0)\n",
      "Requirement already satisfied: branca>=0.6.0 in c:\\users\\acer\\appdata\\roaming\\python\\python39\\site-packages (from folium) (0.7.0)\n",
      "Requirement already satisfied: jinja2>=2.9 in c:\\programdata\\anaconda3\\lib\\site-packages (from folium) (2.11.3)\n",
      "Requirement already satisfied: requests in c:\\programdata\\anaconda3\\lib\\site-packages (from folium) (2.27.1)\n",
      "Requirement already satisfied: numpy in c:\\programdata\\anaconda3\\lib\\site-packages (from folium) (1.21.5)\n",
      "Requirement already satisfied: MarkupSafe>=0.23 in c:\\programdata\\anaconda3\\lib\\site-packages (from jinja2>=2.9->folium) (2.0.1)\n",
      "Requirement already satisfied: charset-normalizer~=2.0.0 in c:\\programdata\\anaconda3\\lib\\site-packages (from requests->folium) (2.0.4)\n",
      "Requirement already satisfied: certifi>=2017.4.17 in c:\\programdata\\anaconda3\\lib\\site-packages (from requests->folium) (2021.10.8)\n",
      "Requirement already satisfied: idna<4,>=2.5 in c:\\programdata\\anaconda3\\lib\\site-packages (from requests->folium) (3.3)\n",
      "Requirement already satisfied: urllib3<1.27,>=1.21.1 in c:\\programdata\\anaconda3\\lib\\site-packages (from requests->folium) (1.26.9)\n"
     ]
    }
   ],
   "source": [
    "# ติดตั้งแพ็กเกจ Earth Engine API\n",
    "!pip install earthengine-api\n",
    "\n",
    "# ติดตั้งแพ็กเกจ geemap\n",
    "!pip install geemap\n",
    "\n",
    "# ติดตั้งแพ็กเกจ folium\n",
    "!pip install folium"
   ]
  },
  {
   "cell_type": "code",
   "execution_count": 3,
   "id": "41d5f402",
   "metadata": {},
   "outputs": [
    {
     "data": {
      "text/html": [
       "\n",
       "            <style>\n",
       "                .geemap-dark {\n",
       "                    --jp-widgets-color: white;\n",
       "                    --jp-widgets-label-color: white;\n",
       "                    --jp-ui-font-color1: white;\n",
       "                    --jp-layout-color2: #454545;\n",
       "                    background-color: #383838;\n",
       "                }\n",
       "                    \n",
       "                .geemap-dark .jupyter-button {\n",
       "                    --jp-layout-color3: #383838;\n",
       "                }\n",
       "                \n",
       "                .geemap-colab {\n",
       "                    background-color: var(--colab-primary-surface-color, white);\n",
       "                }\n",
       "                    \n",
       "                .geemap-colab .jupyter-button {\n",
       "                    --jp-layout-color3: var(--colab-primary-surface-color, white);\n",
       "                }\n",
       "            </style>\n",
       "            "
      ],
      "text/plain": [
       "<IPython.core.display.HTML object>"
      ]
     },
     "metadata": {},
     "output_type": "display_data"
    }
   ],
   "source": [
    "# นำเข้าแพ็กเกจ geemap เพื่อให้สามารถใช้งานเครื่องมือแสดงแผนที่จาก Google Earth Engine ได้\n",
    "import geemap\n",
    "\n",
    "# นำเข้าแพ็กเกจ folium เพื่อให้สามารถใช้งานเครื่องมือสร้างแผนที่แบบอินเตอร์แอคทีฟได้\n",
    "import folium\n",
    "\n",
    "# นำเข้าฟังก์ชัน Map จาก geemap เพื่อให้สามารถสร้างแผนที่เบื้องต้นได้\n",
    "from geemap import Map\n",
    "\n",
    "# นำเข้าฟังก์ชัน datetime เพื่อให้สามารถใช้งานฟังก์ชันที่เกี่ยวข้องกับวันที่และเวลาได้\n",
    "from datetime import datetime\n",
    "\n",
    "# นำเข้าแพ็กเกจ os เพื่อให้สามารถใช้งานฟังก์ชันที่เกี่ยวข้องกับระบบปฏิบัติการได้\n",
    "import os"
   ]
  },
  {
   "cell_type": "code",
   "execution_count": 4,
   "id": "53e3fa20",
   "metadata": {},
   "outputs": [
    {
     "data": {
      "text/html": [
       "\n",
       "            <style>\n",
       "                .geemap-dark {\n",
       "                    --jp-widgets-color: white;\n",
       "                    --jp-widgets-label-color: white;\n",
       "                    --jp-ui-font-color1: white;\n",
       "                    --jp-layout-color2: #454545;\n",
       "                    background-color: #383838;\n",
       "                }\n",
       "                    \n",
       "                .geemap-dark .jupyter-button {\n",
       "                    --jp-layout-color3: #383838;\n",
       "                }\n",
       "                \n",
       "                .geemap-colab {\n",
       "                    background-color: var(--colab-primary-surface-color, white);\n",
       "                }\n",
       "                    \n",
       "                .geemap-colab .jupyter-button {\n",
       "                    --jp-layout-color3: var(--colab-primary-surface-color, white);\n",
       "                }\n",
       "            </style>\n",
       "            "
      ],
      "text/plain": [
       "<IPython.core.display.HTML object>"
      ]
     },
     "metadata": {},
     "output_type": "display_data"
    },
    {
     "data": {
      "text/html": [
       "<p>To authorize access needed by Earth Engine, open the following\n",
       "        URL in a web browser and follow the instructions:</p>\n",
       "        <p><a href=https://code.earthengine.google.com/client-auth?scopes=https%3A//www.googleapis.com/auth/earthengine%20https%3A//www.googleapis.com/auth/devstorage.full_control&request_id=ldjIOh1d5XlUsYuebHBtrXLTyHVmNdME6vi0sjR3KUk&tc=kpO3ug4D4-7JVLgGP2HESs0yPL8qPOXDWldGbC8PfNc&cc=7TY955bsucca4P4mhzB8ZDXuKMCrVecvn0WiM6Rz6D4>https://code.earthengine.google.com/client-auth?scopes=https%3A//www.googleapis.com/auth/earthengine%20https%3A//www.googleapis.com/auth/devstorage.full_control&request_id=ldjIOh1d5XlUsYuebHBtrXLTyHVmNdME6vi0sjR3KUk&tc=kpO3ug4D4-7JVLgGP2HESs0yPL8qPOXDWldGbC8PfNc&cc=7TY955bsucca4P4mhzB8ZDXuKMCrVecvn0WiM6Rz6D4</a></p>\n",
       "        <p>The authorization workflow will generate a code, which you should paste in the box below.</p>\n",
       "        "
      ],
      "text/plain": [
       "<IPython.core.display.HTML object>"
      ]
     },
     "metadata": {},
     "output_type": "display_data"
    },
    {
     "name": "stdout",
     "output_type": "stream",
     "text": [
      "Enter verification code: 4/1AfJohXkpvM7f2GI_eNMy6p_XddZftE0fYY3gLdmW73W7P4CqbFThA5ydsGU\n",
      "\n",
      "Successfully saved authorization token.\n"
     ]
    }
   ],
   "source": [
    "# นำเข้าแพ็กเกจ ee เพื่อให้สามารถใช้งาน Google Earth Engine API ได้\n",
    "import ee\n",
    "\n",
    "# เริ่มกระบวนการตรวจสอบสิทธิ์และเชื่อมต่อกับ Google Earth Engine API\n",
    "# ขั้นตอนนี้จะเรียกใช้หน้าเว็บเพื่อให้ผู้ใช้ทำการล็อกอินและอนุญาตการเข้าถึงข้อมูลจาก Google Earth Engine\n",
    "ee.Authenticate()\n",
    "\n",
    "# หลังจากที่ผู้ใช้ล็อกอินและอนุญาตเรียบร้อยแล้ว\n",
    "# ให้เรียกใช้ฟังก์ชัน Initialize() เพื่อเชื่อมต่อกับ Google Earth Engine API\n",
    "ee.Initialize()"
   ]
  },
  {
   "cell_type": "markdown",
   "id": "021ecb6a",
   "metadata": {},
   "source": [
    "# ฟังก์ชันสำหรับเรียกขอบเขตของจังหวัดในภาคเหนือตอนล่าง"
   ]
  },
  {
   "cell_type": "code",
   "execution_count": 5,
   "id": "6d437da0",
   "metadata": {},
   "outputs": [
    {
     "data": {
      "text/html": [
       "\n",
       "            <style>\n",
       "                .geemap-dark {\n",
       "                    --jp-widgets-color: white;\n",
       "                    --jp-widgets-label-color: white;\n",
       "                    --jp-ui-font-color1: white;\n",
       "                    --jp-layout-color2: #454545;\n",
       "                    background-color: #383838;\n",
       "                }\n",
       "                    \n",
       "                .geemap-dark .jupyter-button {\n",
       "                    --jp-layout-color3: #383838;\n",
       "                }\n",
       "                \n",
       "                .geemap-colab {\n",
       "                    background-color: var(--colab-primary-surface-color, white);\n",
       "                }\n",
       "                    \n",
       "                .geemap-colab .jupyter-button {\n",
       "                    --jp-layout-color3: var(--colab-primary-surface-color, white);\n",
       "                }\n",
       "            </style>\n",
       "            "
      ],
      "text/plain": [
       "<IPython.core.display.HTML object>"
      ]
     },
     "metadata": {},
     "output_type": "display_data"
    },
    {
     "data": {
      "application/vnd.jupyter.widget-view+json": {
       "model_id": "2af402300d0c43fe8df719c567d98241",
       "version_major": 2,
       "version_minor": 0
      },
      "text/plain": [
       "Map(center=[17.5, 100.0], controls=(WidgetControl(options=['position', 'transparent_bg'], widget=SearchDataGUI…"
      ]
     },
     "metadata": {},
     "output_type": "display_data"
    }
   ],
   "source": [
    "# ฟังก์ชันสำหรับดึงขอบเขตของจังหวัดในภาคเหนือ\n",
    "def get_province_boundary():\n",
    "    # รายชื่อของจังหวัดในภาคเหนือ\n",
    "    provinces = [\n",
    "        'Phitsanulok', 'Phichit', 'Phetchabun', 'Kampaeng Phet',\n",
    "        'Tak', 'Nakhon Sawan', 'Sukhothai', 'Uthai Thani', 'Uttaradit'\n",
    "    ]\n",
    "    \n",
    "    # สร้าง FeatureCollection ของขอบเขตจังหวัด\n",
    "    province_boundary = ee.FeatureCollection([\n",
    "        ee.Feature(ee.FeatureCollection(\"FAO/GAUL_SIMPLIFIED_500m/2015/level1\")\n",
    "                   .filter(ee.Filter.inList('ADM1_NAME', provinces))\n",
    "                   .geometry())\n",
    "    ])\n",
    "\n",
    "    return province_boundary\n",
    "\n",
    "\n",
    "# กำหนดรูปแบบและพารามิเตอร์ของแผนที่\n",
    "Map = geemap.Map(center=[17.5, 100.0], zoom=6)\n",
    "\n",
    "# ดึงขอบเขตของจังหวัดในภาคเหนือ\n",
    "province_boundary = get_province_boundary()\n",
    "\n",
    "# เพิ่มขอบเขตของจังหวัดลงในแผนที่\n",
    "Map.addLayer(province_boundary, {}, 'Province Boundary')\n",
    "\n",
    "# เพิ่มแผนที่ควบคุมเพื่อให้ผู้ใช้สามารถเปลี่ยนแปลงและเลือกชั้นข้อมูลได้\n",
    "Map.addLayerControl()\n",
    "\n",
    "# แสดงแผนที่\n",
    "Map"
   ]
  },
  {
   "cell_type": "markdown",
   "id": "ee5d8ead",
   "metadata": {},
   "source": [
    "# ฟังก์ชันสำหรับดึงข้อมูลภาพถ่ายดาวเทียม Sentinel-2 "
   ]
  },
  {
   "cell_type": "markdown",
   "id": "0df6dbb5",
   "metadata": {},
   "source": [
    "โค้ดนี้เป็นฟังก์ชันที่ดึงข้อมูลภาพถ่ายดาวเทียม Sentinel-2 ที่เก็บใน Earth Engine ในช่วงเวลาและพื้นที่ที่กำหนด และจัดการกับข้อมูลนั้นให้อยู่ในรูปแบบที่ต้องการเพื่อการศึกษาหรือการวิเคราะห์ทางด้านสิ่งแวดล้อมต่าง ๆ"
   ]
  },
  {
   "cell_type": "code",
   "execution_count": 6,
   "id": "3a71beb4",
   "metadata": {},
   "outputs": [
    {
     "data": {
      "text/html": [
       "\n",
       "            <style>\n",
       "                .geemap-dark {\n",
       "                    --jp-widgets-color: white;\n",
       "                    --jp-widgets-label-color: white;\n",
       "                    --jp-ui-font-color1: white;\n",
       "                    --jp-layout-color2: #454545;\n",
       "                    background-color: #383838;\n",
       "                }\n",
       "                    \n",
       "                .geemap-dark .jupyter-button {\n",
       "                    --jp-layout-color3: #383838;\n",
       "                }\n",
       "                \n",
       "                .geemap-colab {\n",
       "                    background-color: var(--colab-primary-surface-color, white);\n",
       "                }\n",
       "                    \n",
       "                .geemap-colab .jupyter-button {\n",
       "                    --jp-layout-color3: var(--colab-primary-surface-color, white);\n",
       "                }\n",
       "            </style>\n",
       "            "
      ],
      "text/plain": [
       "<IPython.core.display.HTML object>"
      ]
     },
     "metadata": {},
     "output_type": "display_data"
    }
   ],
   "source": [
    "# กำหนดปีเริ่มและปีสิ้นสุด\n",
    "start_year = 2019\n",
    "end_year = 2023\n",
    "\n",
    "# สร้างวัตถุวันที่สองปีสำหรับปีเริ่มและปีสิ้นสุด\n",
    "start_date = ee.Date.fromYMD(start_year, 1, 1)\n",
    "end_date = ee.Date.fromYMD(end_year + 1, 1, 1)\n",
    "\n",
    "# สร้างรายการปี\n",
    "years = ee.List.sequence(start_year, end_year)\n",
    "\n",
    "# สร้างรายการเดือน\n",
    "months = ee.List.sequence(1, 12)\n",
    "\n",
    "# สร้าง ImageCollection สำหรับ Sentinel-2\n",
    "dataset = ee.ImageCollection('COPERNICUS/S2_SR')\n",
    "\n",
    "# กรองภาพ Sentinel-2 ตามขอบเขตของพื้นที่ที่ต้องการศึกษา\n",
    "# และตามช่วงวันที่ที่กำหนด\n",
    "image = dataset.filterBounds(province_boundary) \\\n",
    "               .filterDate(start_date, end_date) \\\n",
    "               .sort('CLOUDY_PIXEL_PERCENTAGE', False) \\\n",
    "               .mosaic() \\\n",
    "               .clip(province_boundary)\n",
    "\n",
    "# สร้างรูปภาพผสมสีจริง (True Color)\n",
    "trueColor = {'bands': ['B4', 'B3', 'B2'], 'min': 0, 'max': 3000}\n",
    "\n",
    "# สร้าง ImageCollection โดยกรองภาพ Sentinel-2 ตามพื้นที่และช่วงเวลาที่กำหนด\n",
    "# จากนั้นทำการเรียงลำดับภาพตามเปอร์เซ็นต์ของความมืด (Cloudy Pixel Percentage) จากมากไปน้อย\n",
    "# ในที่นี้ใช้ .mosaic() เพื่อเลือกภาพที่มีความมืดน้อยที่สุดใน ImageCollection\n",
    "# และใช้ .clip() เพื่อตัดภาพให้เหมาะสมกับขอบเขตของพื้นที่ที่กำลังศึกษา"
   ]
  },
  {
   "cell_type": "markdown",
   "id": "49b5f91c",
   "metadata": {},
   "source": [
    "ฟังก์ชันนี้ช่วยในการเตรียมข้อมูลภาพถ่ายดาวเทียม Sentinel-2 ในรูปแบบที่ใช้งานได้ง่ายและเหมาะสมสำหรับการทำงานต่อไปในการวิเคราะห์หรือการแสดงผลบนแผนที่ทางด้านสิ่งแวดล้อมครับ"
   ]
  },
  {
   "cell_type": "markdown",
   "id": "acae5da5",
   "metadata": {},
   "source": [
    "# การวิเคราะห์ข้อมูลทางด้านเกษตรกรรม "
   ]
  },
  {
   "cell_type": "markdown",
   "id": "a774f65e",
   "metadata": {},
   "source": [
    "โค้ดที่ให้มีการคำนวณดัชนีทางการผสมสี (Vegetation Indices) ต่าง ๆ จากภาพ Sentinel-2 ที่ได้จากรายการภาพที่ผ่านกระบวนการกรองและจัดเรียงลำดับแล้ว ซึ่งเป็นดัชนีที่ใช้ในการวิเคราะห์พื้นที่ต่าง ๆ โดยให้ข้อมูลที่มีประโยชน์ดังนี้ :"
   ]
  },
  {
   "cell_type": "code",
   "execution_count": 7,
   "id": "523e51cf",
   "metadata": {},
   "outputs": [
    {
     "data": {
      "text/html": [
       "\n",
       "            <style>\n",
       "                .geemap-dark {\n",
       "                    --jp-widgets-color: white;\n",
       "                    --jp-widgets-label-color: white;\n",
       "                    --jp-ui-font-color1: white;\n",
       "                    --jp-layout-color2: #454545;\n",
       "                    background-color: #383838;\n",
       "                }\n",
       "                    \n",
       "                .geemap-dark .jupyter-button {\n",
       "                    --jp-layout-color3: #383838;\n",
       "                }\n",
       "                \n",
       "                .geemap-colab {\n",
       "                    background-color: var(--colab-primary-surface-color, white);\n",
       "                }\n",
       "                    \n",
       "                .geemap-colab .jupyter-button {\n",
       "                    --jp-layout-color3: var(--colab-primary-surface-color, white);\n",
       "                }\n",
       "            </style>\n",
       "            "
      ],
      "text/plain": [
       "<IPython.core.display.HTML object>"
      ]
     },
     "metadata": {},
     "output_type": "display_data"
    }
   ],
   "source": [
    "# คำนวณ Normalized Difference Vegetation Index (NDVI)\n",
    "# NDVI ถูกใช้เพื่อประมาณการปริมาณของพืชที่มีในพื้นที่\n",
    "# สูตร: (NIR - RED) / (NIR + RED)\n",
    "ndvi_sent2 = image.expression(\n",
    "\"(NIR - RED) / (NIR + RED)\",\n",
    "{\n",
    "    \"NIR\":image.select(\"B8\"),\n",
    "    \"RED\":image.select(\"B4\")\n",
    "});\n",
    "\n",
    "# คำนวณ Green Normalized Difference Vegetation Index (GNDVI)\n",
    "# GNDVI ใช้เพื่อวัดปริมาณของพืชที่มีในพื้นที่ โดยเน้นไปที่สีเขียวของพืช\n",
    "# สูตร: (NIR - GREEN) / (NIR + GREEN)\n",
    "gndvi_sent2 = image.expression(\n",
    "\"(NIR - GREEN) / (NIR + GREEN)\",\n",
    "{\n",
    "    \"NIR\":image.select(\"B8\").divide(1000),\n",
    "    \"GREEN\":image.select(\"B3\").divide(1000)\n",
    "});\n",
    "\n",
    "# คำนวณ Enhanced Vegetation Index (EVI)\n",
    "# EVI ถูกออกแบบมาเพื่อลดผลกระทบจากตัวสิ่งแวดล้อมต่าง ๆ ที่อาจทำให้ NDVI ไม่แม่นยำเท่านั้น\n",
    "# สูตร: 2.5 * (NIR - RED) / ((NIR + 6*RED - 7.5*BLUE) + 1)\n",
    "evi_sent2 = image.expression(\n",
    " '2.5 * (NIR - RED) / ((NIR + 6*RED - 7.5*BLUE) + 1)', \n",
    "{\n",
    "        'NIR': image.select('B8').divide(1000),\n",
    "        'RED': image.select('B4').divide(1000),\n",
    "        'BLUE': image.select('B2').divide(1000)\n",
    "});\n",
    "\n",
    "# คำนวณ Advanced Vegetation Index (AVI)\n",
    "# AVI ถูกออกแบบมาเพื่อดูและวัดปริมาณของพืชที่มีในพื้นที่\n",
    "# สูตร: ((NIR * (10000 - RED) * (NIR - RED))**(1/3)) * (NIR - RED < 0 ? 0 : 1)\n",
    "# คำนวณ Advanced Vegetation Index (AVI)\n",
    "avi_expression = (\n",
    "    '(nir * (10000 - red) * (nir - red))**(1/3)' +\n",
    "    ' * (nir - red < 0 ? 0 : 1)'\n",
    ")\n",
    "\n",
    "avi_sent2 = image.expression(avi_expression, {\n",
    "    'nir': image.select('B8'),  \n",
    "    'red': image.select('B4')   \n",
    "}).uint16()\n",
    "\n",
    "# คำนวณ Soil Adjusted Vegetation Index (SAVI)\n",
    "# SAVI ถูกออกแบบมาเพื่อปรับข้อมูลที่ได้จาก NDVI เพื่อให้ได้ข้อมูลที่แม่นยำมากขึ้น\n",
    "# สูตร: (NIR - RED) / ((NIR + RED + 0.428) * (1.428))\n",
    "savi_sent2 = image.expression(\n",
    "      \"(NIR - RED) / ((NIR + RED + 0.428) * (1.428))\", \n",
    "      {\n",
    "      'NIR' : image.select('B8').divide(1000),\n",
    "     'RED' : image.select('B4').divide(1000)\n",
    "      });\n",
    "\n",
    "# คำนวณ Normalized Difference Moisture Index (NDMI)\n",
    "# NDMI ใช้เพื่อประมาณการความชื้นในพื้นที่ โดยใช้ค่าสเปกตรัลในส่วนของ Near-Infrared (NIR) และ Shortwave Infrared (SWIR)\n",
    "# สูตร: (NIR - SWIR) / (NIR + SWIR)\n",
    "nir_band = image.select('B8')\n",
    "swir_band = image.select('B11')\n",
    "\n",
    "ndmi_sent2 = nir_band.subtract(swir_band).divide(nir_band.add(swir_band)).rename('NDMI');\n",
    "\n",
    "# คำนวณ Green Coverage Index (GCI)\n",
    "# GCI ใช้เพื่อวัดปริมาณของพืชที่มีในพื้นที่ โดยเน้นไปที่สีเขียวของพืช\n",
    "# สูตร: NIR / GREEN - 1\n",
    "nir_band = image.select('B8')\n",
    "green_band = image.select('B3')\n",
    "\n",
    "gci_sent2 = nir_band.divide(green_band).subtract(1).rename('GCI');\n",
    "\n",
    "# คำนวณ Structure Insensitive Pigment Index (SIPI)\n",
    "# SIPI ถูกออกแบบมาเพื่อวัดปริมาณของสารละลายในพืช โดยใช้ค่าสเปกตรัลในส่วนของ Near-Infrared (NIR), Red, และ Blue\n",
    "# สูตร: (NIR - Blue) / (NIR - Red)\n",
    "nir_band = image.select('B8')\n",
    "red_band = image.select('B4')\n",
    "blue_band = image.select('B2')\n",
    "\n",
    "sipi_sent2 = nir_band.subtract(blue_band).divide(nir_band.subtract(red_band)).rename('SIPI');\n",
    "\n",
    "# คำนวณ Bare Soil Index (BSI)\n",
    "# BSI ใช้เพื่อประมาณการปริมาณของพืชที่ไม่มีในพื้นที่ โดยใช้ค่าสเปกตรัลในส่วนของ Red, Near-Infrared (NIR), และ Shortwave Infrared (SWIR)\n",
    "# สูตร: (Red + SWIR) / (NIR + SWIR)\n",
    "red_band = image.select('B4')\n",
    "blue_band = image.select('B2')\n",
    "nir_band = image.select('B8')\n",
    "swir_band = image.select('B11')\n",
    "\n",
    "bsi_numerator = red_band.add(swir_band).subtract(nir_band.add(blue_band));\n",
    "bsi_denominator = red_band.add(swir_band).add(nir_band.add(blue_band));\n",
    "bsi_sent2 = bsi_numerator.divide(bsi_denominator).rename('BSI');\n",
    "\n",
    "# คำนวณ Normalized difference water index (NDWI)\n",
    "# NDWI ใช้เพื่อประมาณการน้ำที่มีในพื้นที่ โดยใช้ค่าสเปกตรัลในส่วนของ Near-Infrared (NIR) และ Green\n",
    "# สูตร: (NIR - Green) / (NIR + Green)\n",
    "green_band = image.select('B3')\n",
    "nir_band = image.select('B8')\n",
    "\n",
    "ndwi_sent2 = nir_band.subtract(green_band).divide(nir_band.add(green_band)).rename('NDWI')"
   ]
  },
  {
   "cell_type": "markdown",
   "id": "788c46b3",
   "metadata": {},
   "source": [
    "โดยการใช้ดัชนีทางการผสมสีเหล่านี้ สามารถสกัดข้อมูลที่มีความหลากหลายเพื่อให้ได้ข้อมูลที่สมบูรณ์แบบเกี่ยวกับพื้นที่นั้น ๆ ในช่วงเวลาที่กำหนด"
   ]
  },
  {
   "cell_type": "code",
   "execution_count": 8,
   "id": "b43a8a30",
   "metadata": {},
   "outputs": [
    {
     "data": {
      "text/html": [
       "\n",
       "            <style>\n",
       "                .geemap-dark {\n",
       "                    --jp-widgets-color: white;\n",
       "                    --jp-widgets-label-color: white;\n",
       "                    --jp-ui-font-color1: white;\n",
       "                    --jp-layout-color2: #454545;\n",
       "                    background-color: #383838;\n",
       "                }\n",
       "                    \n",
       "                .geemap-dark .jupyter-button {\n",
       "                    --jp-layout-color3: #383838;\n",
       "                }\n",
       "                \n",
       "                .geemap-colab {\n",
       "                    background-color: var(--colab-primary-surface-color, white);\n",
       "                }\n",
       "                    \n",
       "                .geemap-colab .jupyter-button {\n",
       "                    --jp-layout-color3: var(--colab-primary-surface-color, white);\n",
       "                }\n",
       "            </style>\n",
       "            "
      ],
      "text/plain": [
       "<IPython.core.display.HTML object>"
      ]
     },
     "metadata": {},
     "output_type": "display_data"
    }
   ],
   "source": [
    "# กำหนดสี palette\n",
    "# สีถูกกำหนดเป็นรหัส Hexadecimal สำหรับแต่ละค่าใน display list\n",
    "# โดย palette นี้จะถูกนำมาใช้ในการแสดงผลภาพ\n",
    "\n",
    "display = [\n",
    "    '040274', '040281', '0502a3', '0502b8', '0502ce', '0502e6',\n",
    "    '0602ff', '235cb1', '307ef3', '269db1', '30c8e2', '32d3ef',\n",
    "    '3be285', '3ff38f', '86e26f', '3ae237', 'b5e22e', 'd6e21f',\n",
    "    'fff705', 'ffd611', 'ffb613', 'ff8b13', 'ff6e08', 'ff500d',\n",
    "    'ff0000', 'de0101', 'c21301', 'a71001', '911003'\n",
    "]\n",
    "\n",
    "# สีถูกกำหนดในรูปแบบ Hexadecimal ซึ่งประกอบด้วยสี่ตัวอักษรหลังเครื่องหมาย # (ตัวอย่างเช่น '040274')\n",
    "# แต่ละสีจะถูกนำมาใช้เพื่อแสดงผลข้อมูลด้วยสีที่กำหนดไว้ในตำแหน่งที่แตกต่างกัน\n",
    "# ในกรณีนี้น่าจะเป็นสีที่ใช้ในการแสดงผลข้อมูลที่ได้จากการคำนวณดัชนีทางพืชและสารละลาย"
   ]
  },
  {
   "cell_type": "code",
   "execution_count": 9,
   "id": "b0c0685a",
   "metadata": {},
   "outputs": [
    {
     "data": {
      "text/html": [
       "\n",
       "            <style>\n",
       "                .geemap-dark {\n",
       "                    --jp-widgets-color: white;\n",
       "                    --jp-widgets-label-color: white;\n",
       "                    --jp-ui-font-color1: white;\n",
       "                    --jp-layout-color2: #454545;\n",
       "                    background-color: #383838;\n",
       "                }\n",
       "                    \n",
       "                .geemap-dark .jupyter-button {\n",
       "                    --jp-layout-color3: #383838;\n",
       "                }\n",
       "                \n",
       "                .geemap-colab {\n",
       "                    background-color: var(--colab-primary-surface-color, white);\n",
       "                }\n",
       "                    \n",
       "                .geemap-colab .jupyter-button {\n",
       "                    --jp-layout-color3: var(--colab-primary-surface-color, white);\n",
       "                }\n",
       "            </style>\n",
       "            "
      ],
      "text/plain": [
       "<IPython.core.display.HTML object>"
      ]
     },
     "metadata": {},
     "output_type": "display_data"
    },
    {
     "data": {
      "application/vnd.jupyter.widget-view+json": {
       "model_id": "e797cb9a21244e828f94546379851962",
       "version_major": 2,
       "version_minor": 0
      },
      "text/plain": [
       "Map(center=[16.828023952686376, 100.41638539390868], controls=(WidgetControl(options=['position', 'transparent…"
      ]
     },
     "metadata": {},
     "output_type": "display_data"
    }
   ],
   "source": [
    "# สร้างแผนที่โดยกำหนดพิกัดศูนย์กลางและระดับการซูม\n",
    "Map = geemap.Map(center=[16.828023952686376, 100.41638539390868], zoom=8)\n",
    "\n",
    "# เพิ่มภาพ True Color Composite เข้าไปในแผนที่\n",
    "Map.addLayer(image, trueColor, 'True Color Composite')\n",
    "\n",
    "# เพิ่มข้อมูล NDVI พร้อมกับใช้สีที่กำหนดใน display palette\n",
    "Map.addLayer(ndvi_sent2, {'min': -1, 'max': 1, 'palette': display}, 'NDVI with Sentinel-2')\n",
    "\n",
    "# เพิ่มข้อมูล GNDVI พร้อมกับใช้สีที่กำหนดใน display palette\n",
    "Map.addLayer(gndvi_sent2, {'min': 0, 'max': 1, 'palette': display}, 'GNDVI with Sentinel-2')\n",
    "\n",
    "# เพิ่มข้อมูล EVI พร้อมกับใช้สีที่กำหนดใน display palette\n",
    "Map.addLayer(evi_sent2, {'min': 0, 'max': 1, 'palette': display}, 'EVI with Sentinel-2')\n",
    "\n",
    "# เพิ่มข้อมูล AVI พร้อมกับใช้สีที่กำหนดใน display palette\n",
    "Map.addLayer(avi_sent2, {'min': 0, 'max': 5500, 'palette': display}, 'AVI with Sentinel-2')\n",
    "\n",
    "# เพิ่มข้อมูล SAVI พร้อมกับใช้สีที่กำหนดใน display palette\n",
    "Map.addLayer(savi_sent2, {'min': 0, 'max': 0.4, 'palette': display}, 'SAVI with Sentinel-2')\n",
    "\n",
    "# เพิ่มข้อมูล NDMI พร้อมกับใช้สีที่กำหนดใน display palette\n",
    "Map.addLayer(ndmi_sent2, {'min': -1, 'max': 1, 'palette': display}, 'NDMI with Sentinel-2')\n",
    "\n",
    "# เพิ่มข้อมูล GCI พร้อมกับใช้สีที่กำหนดใน display palette\n",
    "Map.addLayer(gci_sent2, {'min': -1, 'max': 1, 'palette': display}, 'GCI with Sentinel-2')\n",
    "\n",
    "# เพิ่มข้อมูล SIPI พร้อมกับใช้สีที่กำหนดใน display palette\n",
    "Map.addLayer(sipi_sent2, {'min': -1, 'max': 1, 'palette': display}, 'SIPI with Sentinel-2')\n",
    "\n",
    "# เพิ่มข้อมูล BSI พร้อมกับใช้สีที่กำหนดใน display palette\n",
    "Map.addLayer(bsi_sent2, {'min': -1, 'max': 1, 'palette': display}, 'BSI with Sentinel-2')\n",
    "\n",
    "# เพิ่มข้อมูล NDWI พร้อมกับใช้สีที่กำหนดไว้ในรูปแบบที่กำหนด\n",
    "Map.addLayer(ndwi_sent2, {'min': -1, 'max': 1, 'palette': ['blue', 'white', 'green']}, 'NDWI with Sentinel-2')\n",
    "\n",
    "# เพิ่มแผนที่ควบคุมเพื่อให้ผู้ใช้สามารถเปลี่ยนแปลงและเลือกชั้นข้อมูลได้\n",
    "Map.addLayerControl()\n",
    "\n",
    "# แสดงแผนที่\n",
    "Map"
   ]
  },
  {
   "cell_type": "markdown",
   "id": "b816a9ea",
   "metadata": {},
   "source": [
    "# ฟังก์ชันสำหรับดึงข้อมูลภาพถ่ายดาวเทียม Landsat-7"
   ]
  },
  {
   "cell_type": "markdown",
   "id": "474c0eec",
   "metadata": {},
   "source": [
    "โค้ดที่ให้มีการสร้างแผนที่โดยใช้ข้อมูล Landsat Surface Reflectance ที่ได้จากรายการภาพที่ผ่านกระบวนการกรองและจัดเรียงลำดับแล้ว ซึ่งเป็นภาพทางสถิติ (median) ของคอลเล็คชัน Landsat ในช่วงเวลาที่กำหนด นอกจากนี้ยังได้มีการปรับปรุงค่าเทสคาลิ่งในภาพเพื่อให้ข้อมูลที่แม่นยำมากขึ้น โดยใช้ฟังก์ชัน applyScaleFactors:"
   ]
  },
  {
   "cell_type": "code",
   "execution_count": 10,
   "id": "23496f98",
   "metadata": {},
   "outputs": [
    {
     "data": {
      "text/html": [
       "\n",
       "            <style>\n",
       "                .geemap-dark {\n",
       "                    --jp-widgets-color: white;\n",
       "                    --jp-widgets-label-color: white;\n",
       "                    --jp-ui-font-color1: white;\n",
       "                    --jp-layout-color2: #454545;\n",
       "                    background-color: #383838;\n",
       "                }\n",
       "                    \n",
       "                .geemap-dark .jupyter-button {\n",
       "                    --jp-layout-color3: #383838;\n",
       "                }\n",
       "                \n",
       "                .geemap-colab {\n",
       "                    background-color: var(--colab-primary-surface-color, white);\n",
       "                }\n",
       "                    \n",
       "                .geemap-colab .jupyter-button {\n",
       "                    --jp-layout-color3: var(--colab-primary-surface-color, white);\n",
       "                }\n",
       "            </style>\n",
       "            "
      ],
      "text/plain": [
       "<IPython.core.display.HTML object>"
      ]
     },
     "metadata": {},
     "output_type": "display_data"
    }
   ],
   "source": [
    "#  กำหนดปีเริ่มและปีสิ้นสุด\n",
    "start_year = 2019\n",
    "end_year = 2023\n",
    "\n",
    "# สร้างวัตถุวันที่สองปีสำหรับปีเริ่มและปีสิ้นสุด\n",
    "start_date = ee.Date.fromYMD(start_year, 1, 1)\n",
    "end_date = ee.Date.fromYMD(end_year + 1, 1, 1)\n",
    "\n",
    "# สร้างรายการปี\n",
    "years = ee.List.sequence(start_year, end_year)\n",
    "\n",
    "# สร้างรายการเดือน\n",
    "months = ee.List.sequence(1, 12)\n",
    "\n",
    "# สร้าง ImageCollection สำหรับ Landsat data\n",
    "collection = (ee.ImageCollection('LANDSAT/LE07/C02/T1_L2')\n",
    "  .filterDate(start_date, end_date)\n",
    "  .filterBounds(province_boundary)\n",
    "  .sort('CLOUD_COVER'))\n",
    "\n",
    "# คำนวณภาพทางสถิติ (median) จากคอลเล็คชั่น\n",
    "c = collection.median()\n",
    "\n",
    "# นิยามฟังก์ชันเพื่อให้มีการปรับปรุงค่าเทสคาลิ่งในภาพ\n",
    "def applyScaleFactors(collection):\n",
    "    opticalBands = collection.select('SR_B.').multiply(0.0000275).add(-0.2)\n",
    "    thermalBands = collection.select('ST_*.*').multiply(0.00341802).add(149.0)\n",
    "    return collection.addBands(opticalBands, None, True).addBands(thermalBands, None, True)\n",
    "\n",
    "# ปรับปรุงค่าเทสคาลิ่งในภาพที่ได้\n",
    "image = applyScaleFactors(c)\n",
    "\n",
    "# กำหนดพารามิเตอร์สำหรับการแสดงผล\n",
    "visualization = {\n",
    "    'bands': ['SR_B3', 'SR_B2', 'SR_B1'],\n",
    "    'min': 0.0,\n",
    "    'max': 0.25,\n",
    "}"
   ]
  },
  {
   "cell_type": "code",
   "execution_count": 11,
   "id": "a256b9d4",
   "metadata": {},
   "outputs": [
    {
     "data": {
      "text/html": [
       "\n",
       "            <style>\n",
       "                .geemap-dark {\n",
       "                    --jp-widgets-color: white;\n",
       "                    --jp-widgets-label-color: white;\n",
       "                    --jp-ui-font-color1: white;\n",
       "                    --jp-layout-color2: #454545;\n",
       "                    background-color: #383838;\n",
       "                }\n",
       "                    \n",
       "                .geemap-dark .jupyter-button {\n",
       "                    --jp-layout-color3: #383838;\n",
       "                }\n",
       "                \n",
       "                .geemap-colab {\n",
       "                    background-color: var(--colab-primary-surface-color, white);\n",
       "                }\n",
       "                    \n",
       "                .geemap-colab .jupyter-button {\n",
       "                    --jp-layout-color3: var(--colab-primary-surface-color, white);\n",
       "                }\n",
       "            </style>\n",
       "            "
      ],
      "text/plain": [
       "<IPython.core.display.HTML object>"
      ]
     },
     "metadata": {},
     "output_type": "display_data"
    }
   ],
   "source": [
    "# Normalized Difference Moisture Index (NDMI):\n",
    "nir_band = image.select('SR_B4')\n",
    "swir_band = image.select('SR_B5')\n",
    "\n",
    "ndmi = nir_band.subtract(swir_band).divide(nir_band.add(swir_band)).rename('NDMI');\n",
    "\n",
    "# Bare Soil Index (BSI):\n",
    "red_band = image.select('SR_B5')\n",
    "blue_band = image.select('SR_B1')\n",
    "nir_band = image.select('SR_B4')\n",
    "swir_band = image.select('SR_B3')\n",
    "\n",
    "bsi_numerator = red_band.add(swir_band).subtract(nir_band.add(blue_band))\n",
    "bsi_denominator = red_band.add(swir_band).add(nir_band.add(blue_band))\n",
    "bsi = bsi_numerator.divide(bsi_denominator).rename('BSI');\n",
    "\n",
    "# Normalized Difference Water Index (NDWI):\n",
    "SWIR_band = image.select('SR_B5')\n",
    "nir_band = image.select('SR_B4')\n",
    "\n",
    "ndwi = nir_band.subtract(SWIR_band).divide(nir_band.add(SWIR_band)).rename('NDWI')"
   ]
  },
  {
   "cell_type": "code",
   "execution_count": 12,
   "id": "f9ab2b64",
   "metadata": {},
   "outputs": [
    {
     "data": {
      "text/html": [
       "\n",
       "            <style>\n",
       "                .geemap-dark {\n",
       "                    --jp-widgets-color: white;\n",
       "                    --jp-widgets-label-color: white;\n",
       "                    --jp-ui-font-color1: white;\n",
       "                    --jp-layout-color2: #454545;\n",
       "                    background-color: #383838;\n",
       "                }\n",
       "                    \n",
       "                .geemap-dark .jupyter-button {\n",
       "                    --jp-layout-color3: #383838;\n",
       "                }\n",
       "                \n",
       "                .geemap-colab {\n",
       "                    background-color: var(--colab-primary-surface-color, white);\n",
       "                }\n",
       "                    \n",
       "                .geemap-colab .jupyter-button {\n",
       "                    --jp-layout-color3: var(--colab-primary-surface-color, white);\n",
       "                }\n",
       "            </style>\n",
       "            "
      ],
      "text/plain": [
       "<IPython.core.display.HTML object>"
      ]
     },
     "metadata": {},
     "output_type": "display_data"
    },
    {
     "data": {
      "application/vnd.jupyter.widget-view+json": {
       "model_id": "5a3fcdce31544b049362d73a7c9da0c7",
       "version_major": 2,
       "version_minor": 0
      },
      "text/plain": [
       "Map(center=[16.828023952686376, 100.41638539390868], controls=(WidgetControl(options=['position', 'transparent…"
      ]
     },
     "metadata": {},
     "output_type": "display_data"
    }
   ],
   "source": [
    "# สร้างแผนที่โดยกำหนดพิกัดศูนย์กลางและระดับการซูม\n",
    "Map = geemap.Map(center=[16.828023952686376, 100.41638539390868], zoom=8)\n",
    "\n",
    "# เพิ่มชั้นข้อมูล True Color จาก Landsat-7 ที่ตัดต่อกับขอบเขตของจังหวัด\n",
    "Map.addLayer(image.clip(province_boundary), visualization, 'True Color with Landsat-7')\n",
    "\n",
    "# เพิ่มชั้นข้อมูล NDMI (Normalized Difference Moisture Index) ที่ได้คำนวณลงในแผนที่\n",
    "Map.addLayer(ndmi.clip(province_boundary), {'min': -1, 'max': 1, 'palette': display}, 'NDMI with Landsat-7')\n",
    "\n",
    "# เพิ่มชั้นข้อมูล BSI (Bare Soil Index) ที่ได้คำนวณลงในแผนที่\n",
    "Map.addLayer(bsi.clip(province_boundary), {'min': -1, 'max': 1, 'palette': display}, 'BSI with Landsat-7')\n",
    "\n",
    "# เพิ่มชั้นข้อมูล NDWI (Normalized Difference Water Index) ที่ได้คำนวณลงในแผนที่\n",
    "Map.addLayer(ndwi.clip(province_boundary), {'min': -1, 'max': 1, 'palette': ['blue', 'white', 'green']}, 'NDWI with Landsat-7')\n",
    "\n",
    "# เพิ่มป้ายกำกับชั้นข้อมูล\n",
    "Map.addLayerControl()\n",
    "\n",
    "# แสดงแผนที่\n",
    "Map\n"
   ]
  },
  {
   "cell_type": "markdown",
   "id": "5df14b88",
   "metadata": {},
   "source": [
    "# ฟังก์ชันสำหรับดึงข้อมูลภาพถ่ายดาวเทียม Landsat-8"
   ]
  },
  {
   "cell_type": "markdown",
   "id": "5b711cbc",
   "metadata": {},
   "source": [
    "โค้ดนี้ใช้ Earth Engine Python API (ผ่าน geemap) เพื่อดึงข้อมูล Landsat Surface Reflectance จาก Google Earth Engine และแสดงผลลัพธ์บนแผนที่โดยใช้ geemap"
   ]
  },
  {
   "cell_type": "code",
   "execution_count": 13,
   "id": "cb3988ea",
   "metadata": {},
   "outputs": [
    {
     "data": {
      "text/html": [
       "\n",
       "            <style>\n",
       "                .geemap-dark {\n",
       "                    --jp-widgets-color: white;\n",
       "                    --jp-widgets-label-color: white;\n",
       "                    --jp-ui-font-color1: white;\n",
       "                    --jp-layout-color2: #454545;\n",
       "                    background-color: #383838;\n",
       "                }\n",
       "                    \n",
       "                .geemap-dark .jupyter-button {\n",
       "                    --jp-layout-color3: #383838;\n",
       "                }\n",
       "                \n",
       "                .geemap-colab {\n",
       "                    background-color: var(--colab-primary-surface-color, white);\n",
       "                }\n",
       "                    \n",
       "                .geemap-colab .jupyter-button {\n",
       "                    --jp-layout-color3: var(--colab-primary-surface-color, white);\n",
       "                }\n",
       "            </style>\n",
       "            "
      ],
      "text/plain": [
       "<IPython.core.display.HTML object>"
      ]
     },
     "metadata": {},
     "output_type": "display_data"
    }
   ],
   "source": [
    "# กำหนดปีเริ่มต้นและปีสิ้นสุดสำหรับการกรองข้อมูล\n",
    "start_year = 2019\n",
    "end_year = 2023\n",
    "\n",
    "# สร้างวัตถุวันที่สำหรับปีเริ่มต้นและปีสิ้นสุด\n",
    "start_date = ee.Date.fromYMD(start_year, 1, 1)\n",
    "end_date = ee.Date.fromYMD(end_year + 1, 1, 1)\n",
    "\n",
    "# สร้างรายการปีและรายการเดือนสำหรับการใช้งานในภายหลัง\n",
    "years = ee.List.sequence(start_year, end_year)\n",
    "months = ee.List.sequence(1, 12)\n",
    "\n",
    "# สร้าง ImageCollection สำหรับข้อมูล Landsat\n",
    "collection = (ee.ImageCollection('LANDSAT/LC08/C02/T1_L2')\n",
    "  .filterDate(start_date, end_date)         # กรองข้อมูลในช่วงวันที่ระบุ\n",
    "  .filterBounds(province_boundary)        # กรองข้อมูลภายในขอบเขตที่ระบุ\n",
    "  .sort('CLOUD_COVER'))                      # เรียงลำดับคอลเล็คชันตามความคมชัดของเมฆ\n",
    "\n",
    "# คำนวณภาพที่มีค่ามัธยฐานจากคอลเล็คชัน\n",
    "c = collection.median()\n",
    "\n",
    "# นิยามฟังก์ชันเพื่อให้มีการปรับปรุงค่าตัวดัชนีในภาพ\n",
    "def applyScaleFactors(collection):\n",
    "    # ปรับขนาดตัวดัชนีทางทฤษฎีสีของภาพด้วยค่าที่ระบุและเพิ่มเข้าไปในคอลเล็คชัน\n",
    "    opticalBands = collection.select('SR_B.').multiply(0.0000275).add(-0.2)\n",
    "    thermalBands = collection.select('ST_*.*').multiply(0.00341802).add(149.0)\n",
    "    return collection.addBands(opticalBands, None, True).addBands(thermalBands, None, True)\n",
    "\n",
    "# ปรับขนาดตัวดัชนีในภาพที่ได้\n",
    "dataset = applyScaleFactors(c)\n",
    "\n",
    "# กำหนดพารามิเตอร์การแสดงผลสำหรับแผนที่\n",
    "visualization = {\n",
    "    'bands': ['SR_B4', 'SR_B3', 'SR_B2'],\n",
    "    'min': 0.0,\n",
    "    'max': 0.25,\n",
    "}"
   ]
  },
  {
   "cell_type": "markdown",
   "id": "60342965",
   "metadata": {},
   "source": [
    "โค้ดนี้ทำการคำนวณดัชนีที่สำคัญทางด้านการเกษตรและสิ่งแวดล้อมจากข้อมูล Landsat Surface Reflectance และแสดงผลลัพธ์บนแผนที่โดยใช้ geemap"
   ]
  },
  {
   "cell_type": "code",
   "execution_count": 14,
   "id": "46e0f667",
   "metadata": {},
   "outputs": [
    {
     "data": {
      "text/html": [
       "\n",
       "            <style>\n",
       "                .geemap-dark {\n",
       "                    --jp-widgets-color: white;\n",
       "                    --jp-widgets-label-color: white;\n",
       "                    --jp-ui-font-color1: white;\n",
       "                    --jp-layout-color2: #454545;\n",
       "                    background-color: #383838;\n",
       "                }\n",
       "                    \n",
       "                .geemap-dark .jupyter-button {\n",
       "                    --jp-layout-color3: #383838;\n",
       "                }\n",
       "                \n",
       "                .geemap-colab {\n",
       "                    background-color: var(--colab-primary-surface-color, white);\n",
       "                }\n",
       "                    \n",
       "                .geemap-colab .jupyter-button {\n",
       "                    --jp-layout-color3: var(--colab-primary-surface-color, white);\n",
       "                }\n",
       "            </style>\n",
       "            "
      ],
      "text/plain": [
       "<IPython.core.display.HTML object>"
      ]
     },
     "metadata": {},
     "output_type": "display_data"
    }
   ],
   "source": [
    "# คำนวณ Normalized Difference Moisture Index (NDMI)\n",
    "nir_band = dataset.select('SR_B5')\n",
    "swir_band = dataset.select('SR_B6')\n",
    "\n",
    "ndmi = nir_band.subtract(swir_band).divide(nir_band.add(swir_band)).rename('NDMI')\n",
    "\n",
    "# คำนวณ Bare Soil Index (BSI)\n",
    "red_band = dataset.select('SR_B6')\n",
    "blue_band = dataset.select('SR_B2')\n",
    "nir_band = dataset.select('SR_B5')\n",
    "swir_band = dataset.select('SR_B4')\n",
    "\n",
    "bsi_numerator = red_band.add(swir_band).subtract(nir_band.add(blue_band))\n",
    "bsi_denominator = red_band.add(swir_band).add(nir_band.add(blue_band))\n",
    "bsi = bsi_numerator.divide(bsi_denominator).rename('BSI')\n",
    "\n",
    "# คำนวณ Normalized difference water index (NDWI)\n",
    "SWIR_band = dataset.select('SR_B6')\n",
    "nir_band = dataset.select('SR_B5')\n",
    "\n",
    "ndwi = nir_band.subtract(SWIR_band).divide(nir_band.add(SWIR_band)).rename('NDWI')"
   ]
  },
  {
   "cell_type": "code",
   "execution_count": 15,
   "id": "83ecb349",
   "metadata": {},
   "outputs": [
    {
     "data": {
      "text/html": [
       "\n",
       "            <style>\n",
       "                .geemap-dark {\n",
       "                    --jp-widgets-color: white;\n",
       "                    --jp-widgets-label-color: white;\n",
       "                    --jp-ui-font-color1: white;\n",
       "                    --jp-layout-color2: #454545;\n",
       "                    background-color: #383838;\n",
       "                }\n",
       "                    \n",
       "                .geemap-dark .jupyter-button {\n",
       "                    --jp-layout-color3: #383838;\n",
       "                }\n",
       "                \n",
       "                .geemap-colab {\n",
       "                    background-color: var(--colab-primary-surface-color, white);\n",
       "                }\n",
       "                    \n",
       "                .geemap-colab .jupyter-button {\n",
       "                    --jp-layout-color3: var(--colab-primary-surface-color, white);\n",
       "                }\n",
       "            </style>\n",
       "            "
      ],
      "text/plain": [
       "<IPython.core.display.HTML object>"
      ]
     },
     "metadata": {},
     "output_type": "display_data"
    },
    {
     "data": {
      "application/vnd.jupyter.widget-view+json": {
       "model_id": "0df42076774c421eb959b73a2f792d2c",
       "version_major": 2,
       "version_minor": 0
      },
      "text/plain": [
       "Map(center=[16.828023952686376, 100.41638539390868], controls=(WidgetControl(options=['position', 'transparent…"
      ]
     },
     "metadata": {},
     "output_type": "display_data"
    }
   ],
   "source": [
    "# แสดงผลลัพธ์บนแผนที่\n",
    "Map = geemap.Map(center=[16.828023952686376, 100.41638539390868], zoom=8)\n",
    "\n",
    "# แสดง True Color ของ Landsat-8\n",
    "Map.addLayer(dataset.clip(province_boundary), visualization, 'True Color with Landsat-8')\n",
    "\n",
    "# แสดง Normalized Difference Moisture Index (NDMI) บนแผนที่\n",
    "Map.addLayer(ndmi.clip(province_boundary), {'min': -1, 'max': 1, 'palette': display}, 'NDMI with Landsat-8')\n",
    "\n",
    "# แสดง Bare Soil Index (BSI) บนแผนที่\n",
    "Map.addLayer(bsi.clip(province_boundary), {'min': -1, 'max': 1, 'palette': display}, 'BSI with Landsat-8')\n",
    "\n",
    "# แสดง Normalized Difference Water Index (NDWI) บนแผนที่\n",
    "Map.addLayer(ndwi.clip(province_boundary), {'min': -1, 'max': 1, 'palette': ['green', 'white', 'blue']}, 'NDWI with Landsat-8')\n",
    "\n",
    "# เพิ่มเครื่องมือควบคุมเลเยอร์ในแผนที่\n",
    "Map.addLayerControl()\n",
    "\n",
    "# แสดงแผนที่\n",
    "Map"
   ]
  },
  {
   "cell_type": "markdown",
   "id": "48ef6689",
   "metadata": {},
   "source": [
    "# ฟังก์ชันสำหรับดึงข้อมูลภาพถ่ายดาวเทียม Landsat-9"
   ]
  },
  {
   "cell_type": "code",
   "execution_count": 16,
   "id": "c464a10d",
   "metadata": {},
   "outputs": [
    {
     "data": {
      "text/html": [
       "\n",
       "            <style>\n",
       "                .geemap-dark {\n",
       "                    --jp-widgets-color: white;\n",
       "                    --jp-widgets-label-color: white;\n",
       "                    --jp-ui-font-color1: white;\n",
       "                    --jp-layout-color2: #454545;\n",
       "                    background-color: #383838;\n",
       "                }\n",
       "                    \n",
       "                .geemap-dark .jupyter-button {\n",
       "                    --jp-layout-color3: #383838;\n",
       "                }\n",
       "                \n",
       "                .geemap-colab {\n",
       "                    background-color: var(--colab-primary-surface-color, white);\n",
       "                }\n",
       "                    \n",
       "                .geemap-colab .jupyter-button {\n",
       "                    --jp-layout-color3: var(--colab-primary-surface-color, white);\n",
       "                }\n",
       "            </style>\n",
       "            "
      ],
      "text/plain": [
       "<IPython.core.display.HTML object>"
      ]
     },
     "metadata": {},
     "output_type": "display_data"
    }
   ],
   "source": [
    "# กำหนดปีเริ่มต้นและปีสิ้นสุด\n",
    "start_year = 2019\n",
    "end_year = 2023\n",
    "\n",
    "# สร้างวัตถุวันที่สองปีสำหรับปีเริ่มต้นและปีสิ้นสุด\n",
    "start_date = ee.Date.fromYMD(start_year, 1, 1)\n",
    "end_date = ee.Date.fromYMD(end_year + 1, 1, 1)\n",
    "\n",
    "# สร้างรายการปี\n",
    "years = ee.List.sequence(start_year, end_year)\n",
    "\n",
    "# สร้างรายการเดือน\n",
    "months = ee.List.sequence(1, 12)\n",
    "\n",
    "# สร้าง ImageCollection สำหรับข้อมูล Landsat\n",
    "collection = (ee.ImageCollection('LANDSAT/LC09/C02/T1_L2')\n",
    "    .filterDate(start_date, end_date)\n",
    "    .filterBounds(province_boundary)\n",
    "    .sort('CLOUD_COVER'))\n",
    "\n",
    "# คำนวณภาพมีเดียนจากคอลเล็คชัน\n",
    "c = collection.median()\n",
    "\n",
    "# นิยามฟังก์ชันเพื่อปรับปรุงค่าสเกลในภาพ\n",
    "def applyScaleFactors(collection):\n",
    "    opticalBands = collection.select('SR_B.').multiply(0.0000275).add(-0.2)\n",
    "    thermalBands = collection.select('ST_*.*').multiply(0.00341802).add(149.0)\n",
    "    return collection.addBands(opticalBands, None, True).addBands(thermalBands, None, True)\n",
    "\n",
    "# ปรับปรุงค่าสเกลในภาพที่ได้\n",
    "dataset = applyScaleFactors(c)\n",
    "\n",
    "# กำหนดพารามิเตอร์สำหรับการแสดงผล\n",
    "visualization = {\n",
    "    'bands': ['SR_B4', 'SR_B3', 'SR_B2'],\n",
    "    'min': 0.0,\n",
    "    'max': 0.25,\n",
    "}"
   ]
  },
  {
   "cell_type": "code",
   "execution_count": 17,
   "id": "3676f190",
   "metadata": {},
   "outputs": [
    {
     "data": {
      "text/html": [
       "\n",
       "            <style>\n",
       "                .geemap-dark {\n",
       "                    --jp-widgets-color: white;\n",
       "                    --jp-widgets-label-color: white;\n",
       "                    --jp-ui-font-color1: white;\n",
       "                    --jp-layout-color2: #454545;\n",
       "                    background-color: #383838;\n",
       "                }\n",
       "                    \n",
       "                .geemap-dark .jupyter-button {\n",
       "                    --jp-layout-color3: #383838;\n",
       "                }\n",
       "                \n",
       "                .geemap-colab {\n",
       "                    background-color: var(--colab-primary-surface-color, white);\n",
       "                }\n",
       "                    \n",
       "                .geemap-colab .jupyter-button {\n",
       "                    --jp-layout-color3: var(--colab-primary-surface-color, white);\n",
       "                }\n",
       "            </style>\n",
       "            "
      ],
      "text/plain": [
       "<IPython.core.display.HTML object>"
      ]
     },
     "metadata": {},
     "output_type": "display_data"
    }
   ],
   "source": [
    "# คำนวณ Normalized Difference Moisture Index (NDMI)\n",
    "nir_band = dataset.select('SR_B5')\n",
    "swir_band = dataset.select('SR_B6')\n",
    "\n",
    "# ใช้สูตร NDMI: (NIR - SWIR) / (NIR + SWIR)\n",
    "ndmi = nir_band.subtract(swir_band).divide(nir_band.add(swir_band)).rename('NDMI')\n",
    "\n",
    "# คำนวณ Bare Soil Index (BSI)\n",
    "red_band = dataset.select('SR_B6')\n",
    "blue_band = dataset.select('SR_B2')\n",
    "nir_band = dataset.select('SR_B5')\n",
    "swir_band = dataset.select('SR_B4')\n",
    "\n",
    "# ใช้สูตร BSI: (RED + SWIR - NIR - BLUE) / (RED + SWIR + NIR + BLUE)\n",
    "bsi_numerator = red_band.add(swir_band).subtract(nir_band.add(blue_band))\n",
    "bsi_denominator = red_band.add(swir_band).add(nir_band.add(blue_band))\n",
    "bsi = bsi_numerator.divide(bsi_denominator).rename('BSI')\n",
    "\n",
    "# คำนวณ Normalized Difference Water Index (NDWI)\n",
    "SWIR_band = dataset.select('SR_B6')\n",
    "nir_band = dataset.select('SR_B5')\n",
    "\n",
    "# ใช้สูตร NDWI: (NIR - SWIR) / (NIR + SWIR)\n",
    "ndwi = nir_band.subtract(SWIR_band).divide(nir_band.add(SWIR_band)).rename('NDWI')\n"
   ]
  },
  {
   "cell_type": "code",
   "execution_count": 18,
   "id": "c34a5194",
   "metadata": {},
   "outputs": [
    {
     "data": {
      "text/html": [
       "\n",
       "            <style>\n",
       "                .geemap-dark {\n",
       "                    --jp-widgets-color: white;\n",
       "                    --jp-widgets-label-color: white;\n",
       "                    --jp-ui-font-color1: white;\n",
       "                    --jp-layout-color2: #454545;\n",
       "                    background-color: #383838;\n",
       "                }\n",
       "                    \n",
       "                .geemap-dark .jupyter-button {\n",
       "                    --jp-layout-color3: #383838;\n",
       "                }\n",
       "                \n",
       "                .geemap-colab {\n",
       "                    background-color: var(--colab-primary-surface-color, white);\n",
       "                }\n",
       "                    \n",
       "                .geemap-colab .jupyter-button {\n",
       "                    --jp-layout-color3: var(--colab-primary-surface-color, white);\n",
       "                }\n",
       "            </style>\n",
       "            "
      ],
      "text/plain": [
       "<IPython.core.display.HTML object>"
      ]
     },
     "metadata": {},
     "output_type": "display_data"
    },
    {
     "data": {
      "application/vnd.jupyter.widget-view+json": {
       "model_id": "5aefec5febea42e99815cd0ac03123a0",
       "version_major": 2,
       "version_minor": 0
      },
      "text/plain": [
       "Map(center=[16.828023952686376, 100.41638539390868], controls=(WidgetControl(options=['position', 'transparent…"
      ]
     },
     "metadata": {},
     "output_type": "display_data"
    }
   ],
   "source": [
    "# ตั้งค่าแผนที่ด้วย geemap\n",
    "Map = geemap.Map(center=[16.828023952686376, 100.41638539390868], zoom=8)\n",
    "\n",
    "# เพิ่มชั้นข้อมูลภาพถ่าย Landsat-9 ที่ตัดเขตของจังหวัด\n",
    "Map.addLayer(dataset.clip(province_boundary), visualization, 'True Color with Landsat-9')\n",
    "\n",
    "# คำนวณและเพิ่มชั้นข้อมูลดัชนี NDMI โดยให้มีการตัดเขตจังหวัด\n",
    "Map.addLayer(ndmi.clip(province_boundary), {'min': -1, 'max': 1, 'palette': display}, 'NDMI with Landsat-9')\n",
    "\n",
    "# คำนวณและเพิ่มชั้นข้อมูลดัชนี BSI โดยให้มีการตัดเขตจังหวัด\n",
    "Map.addLayer(bsi.clip(province_boundary), {'min': -1, 'max': 1, 'palette': display}, 'BSI with Landsat-9')\n",
    "\n",
    "# คำนวณและเพิ่มชั้นข้อมูลดัชนี NDWI โดยให้มีการตัดเขตจังหวัด\n",
    "Map.addLayer(ndwi.clip(province_boundary), {'min': -1, 'max': 1, 'palette': display}, 'NDWI with Landsat-9')\n",
    "\n",
    "# เพิ่มตัวควบคุมเลเยอร์ในแผนที่\n",
    "Map.addLayerControl()\n",
    "\n",
    "# แสดงแผนที่\n",
    "Map"
   ]
  },
  {
   "cell_type": "markdown",
   "id": "5ff24968",
   "metadata": {},
   "source": [
    "# ฟังก์ชันการคำนวณ Moisture Stress Index (MSI) ด้วยข้อมูล MODIS Terra"
   ]
  },
  {
   "cell_type": "markdown",
   "id": "d8589714",
   "metadata": {},
   "source": [
    "คำนวณแผนที่ภาพระบบเรื่อง (Moisture Stress Index - MSI) ด้วยข้อมูล MODIS Terra"
   ]
  },
  {
   "cell_type": "code",
   "execution_count": 19,
   "id": "ab79d525",
   "metadata": {},
   "outputs": [
    {
     "data": {
      "text/html": [
       "\n",
       "            <style>\n",
       "                .geemap-dark {\n",
       "                    --jp-widgets-color: white;\n",
       "                    --jp-widgets-label-color: white;\n",
       "                    --jp-ui-font-color1: white;\n",
       "                    --jp-layout-color2: #454545;\n",
       "                    background-color: #383838;\n",
       "                }\n",
       "                    \n",
       "                .geemap-dark .jupyter-button {\n",
       "                    --jp-layout-color3: #383838;\n",
       "                }\n",
       "                \n",
       "                .geemap-colab {\n",
       "                    background-color: var(--colab-primary-surface-color, white);\n",
       "                }\n",
       "                    \n",
       "                .geemap-colab .jupyter-button {\n",
       "                    --jp-layout-color3: var(--colab-primary-surface-color, white);\n",
       "                }\n",
       "            </style>\n",
       "            "
      ],
      "text/plain": [
       "<IPython.core.display.HTML object>"
      ]
     },
     "metadata": {},
     "output_type": "display_data"
    },
    {
     "data": {
      "application/vnd.jupyter.widget-view+json": {
       "model_id": "fd756e5e882340ecaa8e9c9dd68c4632",
       "version_major": 2,
       "version_minor": 0
      },
      "text/plain": [
       "Map(center=[16.828023952686376, 100.41638539390868], controls=(WidgetControl(options=['position', 'transparent…"
      ]
     },
     "metadata": {},
     "output_type": "display_data"
    }
   ],
   "source": [
    "# กำหนดปีเริ่มและปีสิ้นสุด\n",
    "start_year = 2019\n",
    "end_year = 2023\n",
    "\n",
    "# สร้างวัตถุวันที่สองปีสำหรับปีเริ่มและปีสิ้นสุด\n",
    "start_date = ee.Date.fromYMD(start_year, 1, 1)\n",
    "end_date = ee.Date.fromYMD(end_year + 1, 1, 1)\n",
    "\n",
    "# สร้างรายการปี\n",
    "years = ee.List.sequence(start_year, end_year)\n",
    "\n",
    "# สร้างรายการเดือน\n",
    "months = ee.List.sequence(1, 12)\n",
    "\n",
    "# นำเข้าและกรองชุดข้อมูลพลังสะReflectance ของ MODIS Terra\n",
    "mod09 = ee.ImageCollection('MODIS/006/MOD09A1')\n",
    "mod09 = mod09.filterDate(start_date, end_date)\n",
    "\n",
    "# กำหนดฟังก์ชันเพื่อหน่วงเมฆ\n",
    "def mask_clouds(image):\n",
    "    quality = image.select('StateQA')\n",
    "    mask = image.updateMask(\n",
    "        quality.bitwiseAnd(1).eq(0)  # ไม่มีเมฆ\n",
    "        .And(quality.bitwiseAnd(2).eq(0))  # ไม่มีเมฆเงา\n",
    "    )\n",
    "    return image.updateMask(mask)\n",
    "\n",
    "mod09 = mod09.map(mask_clouds)\n",
    "\n",
    "# ฟังก์ชันสำหรับคำนวณ MSI (Moisture Stress Index)\n",
    "def calculate_msi(image):\n",
    "    nir_band = image.select('sur_refl_b02')\n",
    "    swir_band = image.select('sur_refl_b06')\n",
    "\n",
    "    msi = swir_band.divide(nir_band).rename('MSI')\\\n",
    "        .set('system:time_start', image.get('system:time_start'))\n",
    "    return msi\n",
    "\n",
    "# คำนวณ MSI สำหรับทุกภาพในชุดข้อมูล\n",
    "MSI = mod09.map(calculate_msi)\n",
    "\n",
    "# ฟังก์ชันสำหรับคำนวณ MSI รายเดือน\n",
    "def calculate_monthly_msi(y):\n",
    "    def calculate_month(m):\n",
    "        # คำนวณ MSI รายเดือน\n",
    "        msi = MSI.filter(ee.Filter.calendarRange(y, y, 'year'))\\\n",
    "            .filter(ee.Filter.calendarRange(m, m, 'month'))\\\n",
    "            .mean()\n",
    "\n",
    "        return msi\n",
    "\n",
    "    return months.map(calculate_month)\n",
    "\n",
    "# สร้าง ImageCollection รวม MSI รายเดือน\n",
    "ic = ee.ImageCollection.fromImages(\n",
    "    years.map(calculate_monthly_msi).flatten()\n",
    ")\n",
    "\n",
    "# สร้างภาพประกอบจาก MSI รายเดือน\n",
    "alerts = ic.select('MSI').mosaic().clip(province_boundary)\n",
    "\n",
    "# กำหนดรูปแบบการแสดงผลสำหรับ MSI\n",
    "msi_vis = {\n",
    "    'min': 0.25,\n",
    "    'max': 1,\n",
    "    'palette':  ['darkblue', 'blue', 'yellow', 'orange', 'red']\n",
    "}\n",
    "\n",
    "# สร้างแผนที่\n",
    "Map = geemap.Map(center=[16.828023952686376, 100.41638539390868], zoom=8)\n",
    "\n",
    "# เพิ่มชั้นข้อมูล MSI ลงในแผนที่\n",
    "Map.addLayer(alerts, msi_vis, 'MSI with MODIS')\n",
    "\n",
    "# เพิ่มตัวควบคุมเลเยอร์ในแผนที่\n",
    "Map.addLayerControl()\n",
    "\n",
    "# แสดงแผนที่\n",
    "Map\n"
   ]
  },
  {
   "cell_type": "markdown",
   "id": "465daddc",
   "metadata": {},
   "source": [
    "ฟังก์ชันทั้งหมดมีบทบาทในการทำให้โค้ดนี้ทำงานได้อย่างถูกต้องและมีความสมบูรณ์ การแบ่งงานเป็นฟังก์ชันช่วยให้โค้ดอ่านและแก้ไขได้ง่ายขึ้นและทำให้โค้ดมีโครงสร้างที่ดี"
   ]
  },
  {
   "cell_type": "markdown",
   "id": "390f8811",
   "metadata": {},
   "source": [
    "# การวิเคราะห์ข้อมูลทางด้านสิ่งแวดล้อม"
   ]
  },
  {
   "cell_type": "markdown",
   "id": "b50896d4",
   "metadata": {},
   "source": [
    "ได้แก่ ข้อมูลอุณหภูมิ, ข้อมูลปริมาณน้ำฝน และข้อมูลคุณภาพอากาศ เช่น  ฝุ่น PM2.5 และก๊าซที่มีผลกระทบต่อคุณภาพอากาศ เช่น คาร์บอนมอนอกไซด์ (CO), ไนโตรเจนไดออกไซด์ (NO2), และซัลเฟอร์ไดออกไซด์ (SO2) "
   ]
  },
  {
   "cell_type": "markdown",
   "id": "bf27b855",
   "metadata": {},
   "source": [
    "# ข้อมูลอุณหภูมิ"
   ]
  },
  {
   "cell_type": "markdown",
   "id": "ae2d0567",
   "metadata": {},
   "source": [
    "โค้ดนี้ใช้ Python ร่วมกับ Google Earth Engine API และ geemap library เพื่อนำเข้าข้อมูลสะสมและวิเคราะห์ข้อมูลสภาพอากาศที่เกี่ยวข้องกับอุณหภูมิผิวดิน (Land Surface Temperature, LST) ในระหว่างปี 2019-2023 ในพื้นที่ที่ถูกกำหนดโดย province_boundary ในภาคเหนือตอนล่างของประเทศไทย"
   ]
  },
  {
   "cell_type": "code",
   "execution_count": 20,
   "id": "7db67304",
   "metadata": {},
   "outputs": [
    {
     "data": {
      "text/html": [
       "\n",
       "            <style>\n",
       "                .geemap-dark {\n",
       "                    --jp-widgets-color: white;\n",
       "                    --jp-widgets-label-color: white;\n",
       "                    --jp-ui-font-color1: white;\n",
       "                    --jp-layout-color2: #454545;\n",
       "                    background-color: #383838;\n",
       "                }\n",
       "                    \n",
       "                .geemap-dark .jupyter-button {\n",
       "                    --jp-layout-color3: #383838;\n",
       "                }\n",
       "                \n",
       "                .geemap-colab {\n",
       "                    background-color: var(--colab-primary-surface-color, white);\n",
       "                }\n",
       "                    \n",
       "                .geemap-colab .jupyter-button {\n",
       "                    --jp-layout-color3: var(--colab-primary-surface-color, white);\n",
       "                }\n",
       "            </style>\n",
       "            "
      ],
      "text/plain": [
       "<IPython.core.display.HTML object>"
      ]
     },
     "metadata": {},
     "output_type": "display_data"
    },
    {
     "data": {
      "application/vnd.jupyter.widget-view+json": {
       "model_id": "727540dfa4fb4a7fb89047e33b095dd3",
       "version_major": 2,
       "version_minor": 0
      },
      "text/plain": [
       "Map(center=[16.828023952686376, 100.41638539390868], controls=(WidgetControl(options=['position', 'transparent…"
      ]
     },
     "metadata": {},
     "output_type": "display_data"
    }
   ],
   "source": [
    "# กำหนดช่วงปีและวันที่: โค้ดเริ่มต้นโดยกำหนดปีเริ่มและปีสิ้นสุด (start_year และ end_year) \n",
    "# สร้างวัตถุวันที่สำหรับวันแรกของปีและวันแรกของปีถัดไป (start_date และ end_date) เพื่อให้ง่ายต่อการกรองข้อมูล\n",
    "\n",
    "# กำหนดปีเริ่มและปีสิ้นสุด\n",
    "start_year = 2019\n",
    "end_year = 2023\n",
    "\n",
    "# สร้างวัตถุวันที่สองปีสำหรับปีเริ่มและปีสิ้นสุด\n",
    "start_date = ee.Date.fromYMD(start_year, 1, 1)\n",
    "end_date = ee.Date.fromYMD(end_year + 1, 1, 1)\n",
    "\n",
    "# สร้างรายการปี\n",
    "years = ee.List.sequence(start_year, end_year)\n",
    "\n",
    "# สร้างรายการเดือน\n",
    "months = ee.List.sequence(1, 12)\n",
    "\n",
    "# นำเข้าและกรองข้อมูล MODIS Terra: ใช้ Earth Engine API เพื่อนำเข้าข้อมูล MODIS Terra surface reflectance \n",
    "# สำหรับกลางวัน (LST_Day_1km) และกลางคืน (LST_Night_1km) ในช่วงเวลาที่กำหนด\n",
    "datasetD = ee.ImageCollection('MODIS/006/MYD11A1').filter(ee.Filter.date(start_date, end_date)).select('LST_Day_1km')\n",
    "datasetN = ee.ImageCollection('MODIS/006/MYD11A1').filter(ee.Filter.date(start_date, end_date)).select('LST_Night_1km')\n",
    "\n",
    "# คำนวณค่าเฉลี่ยและคลิปข้อมูล: นำเข้าข้อมูลเข้ามาและคำนวณค่าเฉลี่ยของข้อมูล LST ในแต่ละวันของชุดข้อมูล \n",
    "# จากนั้นคลิปข้อมูล LST ที่ได้จากคำนวณเฉลี่ยนี้โดยใช้ขอบเขตที่กำหนดโดย province_boundary.\n",
    "clip_D = datasetD.mean().clip(province_boundary)\n",
    "clip_N = datasetN.mean().clip(province_boundary)\n",
    "\n",
    "# กำหนดสีและแสดงผลบนแผนที่: กำหนดสีแบนด์ที่ให้แสดงผลบนแผนที่\n",
    "band = {\n",
    "  'min': 13000.0,\n",
    "  'max': 16500.0,\n",
    "  'palette': [\n",
    "    '#00007b', '#0e50f6', '#05fce0', '#1cfe07', '#f2fc03', '#feaf11', '#f46f28', '#fe4709']\n",
    "}\n",
    "\n",
    "# สร้างแผนที่ด้วย Geemap (ศูนย์กลางที่ [16.828023952686376, 100.41638539390868], ระดับซูมเป็น 8)\n",
    "Map = geemap.Map(center=[16.828023952686376, 100.41638539390868], zoom=8)\n",
    "\n",
    "# เพิ่มชั้นข้อมูล LST (Day) ลงในแผนที่\n",
    "Map.addLayer(clip_D, band, 'Land Surface Temperature (Day)');\n",
    "\n",
    "# เพิ่มชั้นข้อมูล LST (Night) ลงในแผนที่\n",
    "Map.addLayer(clip_N, band, 'Land Surface Temperature (Night)');\n",
    "\n",
    "# เพิ่มตัวควบคุมเลเยอร์ในแผนที่\n",
    "Map.addLayerControl()\n",
    "\n",
    "# แสดงแผนที่\n",
    "Map"
   ]
  },
  {
   "cell_type": "markdown",
   "id": "47d6dc3e",
   "metadata": {},
   "source": [
    "ในโค้ดนี้ เราได้นำเข้าข้อมูลอุณหภูมิอากาศ ERA5 Land และทำการคำนวณค่าเฉลี่ยของอุณหภูมิที่ 2 เมตร (temperature_2m) ในช่วงเวลาที่กำหนด จากนั้นทำการลบค่าคงที่ 273.15 เพื่อแปลงหน่วยอุณหภูมิจากเคลวินเซลเซียส (K) เป็นเซลเซียส (Celsius) หลังจากนั้นใช้ focal_mean เพื่อทำการ smoothing ข้อมูล ด้วยการนำข้อมูลในพิกเซลรอบ ๆ ตัวพิกเซลปัจจุบันมาคำนวณค่าเฉลี่ย เพื่อให้ได้ค่าใหม่สำหรับพิกเซลนั้น ๆ ทำให้เกิดการ \"smoothing\" หรือ \"blurring\" ขข้อมูลภายในรูปภาพ และท้ายที่สุดทำการเพิ่มแผนที่ Air temperature ที่ได้ลงในแผนที่"
   ]
  },
  {
   "cell_type": "code",
   "execution_count": 21,
   "id": "5456cfa7",
   "metadata": {},
   "outputs": [
    {
     "data": {
      "text/html": [
       "\n",
       "            <style>\n",
       "                .geemap-dark {\n",
       "                    --jp-widgets-color: white;\n",
       "                    --jp-widgets-label-color: white;\n",
       "                    --jp-ui-font-color1: white;\n",
       "                    --jp-layout-color2: #454545;\n",
       "                    background-color: #383838;\n",
       "                }\n",
       "                    \n",
       "                .geemap-dark .jupyter-button {\n",
       "                    --jp-layout-color3: #383838;\n",
       "                }\n",
       "                \n",
       "                .geemap-colab {\n",
       "                    background-color: var(--colab-primary-surface-color, white);\n",
       "                }\n",
       "                    \n",
       "                .geemap-colab .jupyter-button {\n",
       "                    --jp-layout-color3: var(--colab-primary-surface-color, white);\n",
       "                }\n",
       "            </style>\n",
       "            "
      ],
      "text/plain": [
       "<IPython.core.display.HTML object>"
      ]
     },
     "metadata": {},
     "output_type": "display_data"
    }
   ],
   "source": [
    "# ข้อมูลอุณหภูมิอากาศ Air temperature (อุณหภูมิเฉลี่ย)\n",
    "dataset = ee.ImageCollection(\"ECMWF/ERA5_LAND/MONTHLY\").filter(ee.Filter.date(start_date, end_date)).select('temperature_2m');\n",
    "mean = dataset.median().subtract(273.15);\n",
    "\n",
    "# กำหนดการแสดงผลในแผนที่\n",
    "vis = {\n",
    "  'bands': ['temperature_2m'],\n",
    "  'min': 10.0,\n",
    "  'max': 35.0,\n",
    "  'palette': [\n",
    "    \"#000080\",\"#0000D9\",\"#4000FF\",\"#8000FF\",\"#0080FF\",\"#00FFFF\",\n",
    "    \"#00FF80\",\"#80FF00\",\"#DAFF00\",\"#FFFF00\",\"#FFF500\",\"#FFDA00\",\n",
    "    \"#FFB000\",\"#FFA400\",\"#FF4F00\",\"#FF2500\",\"#FF0A00\",\"#FF00FF\",\n",
    "  ]\n",
    "};\n",
    "\n",
    "# การใช้ focal_mean เป็นการนำข้อมูลในพิกเซลรอบ ๆ ตัวพิกเซลปัจจุบันมาคำนวณค่าเฉลี่ย เพื่อให้ได้ค่าใหม่สำหรับพิกเซลนั้น ๆ \n",
    "# ทำให้เกิดการ \"smoothing\" หรือ \"blurring\" ข้อมูลภายในรูปภาพ โดยที่ค่าเฉลี่ยนี้จะถูกนำมาใช้แทนค่าในตำแหน่งที่ตัวพิกเซลปัจจุบันอยู่ในแต่ละครั้ง\n",
    "# กำหนด kernel size\n",
    "kernel_size = 5\n",
    "\n",
    "# ใช้ focal_mean เพื่อ smoothing\n",
    "smooth_mean = mean.focal_mean(radius=kernel_size, kernelType='circle', units='pixels')\n",
    "\n",
    "# เพิ่มแผนที่ Air temperature ลงในแผนที่\n",
    "Map.addLayer(smooth_mean.clip(province_boundary), vis, 'Air temperature ERA5 Land Temperature');\n"
   ]
  },
  {
   "cell_type": "markdown",
   "id": "56c9e038",
   "metadata": {},
   "source": [
    "# ข้อมูลปริมาณน้ำฝน"
   ]
  },
  {
   "cell_type": "markdown",
   "id": "48296535",
   "metadata": {},
   "source": [
    "ในโค้ดนี้ เรานำเข้าชุดข้อมูล CHIRPS ซึ่งเป็นข้อมูลการปริมาณน้ำฝนราย 5 วัน จาก Climate Hazards Group InfraRed Precipitation with Station data (CHIRPS) และกรองข้อมูลในช่วงเวลาที่กำหนดด้วย filterDate จากนั้นเรานิยามฟังก์ชัน calculate_monthly_precip เพื่อจะคำนวณปริมาณน้ำฝนรายเดือน และสร้าง ImageCollection ที่มีข้อมูลน้ำฝนรายเดือน. ในส่วนของการแสดงผล (precip_vis) เรากำหนดค่าสีและขีดเขียวแดงของแผนที่ที่ต้องการให้สามารถดูปริมาณน้ำฝนได้อย่างชัดเจน"
   ]
  },
  {
   "cell_type": "code",
   "execution_count": 29,
   "id": "40929d80",
   "metadata": {},
   "outputs": [
    {
     "data": {
      "text/html": [
       "\n",
       "            <style>\n",
       "                .geemap-dark {\n",
       "                    --jp-widgets-color: white;\n",
       "                    --jp-widgets-label-color: white;\n",
       "                    --jp-ui-font-color1: white;\n",
       "                    --jp-layout-color2: #454545;\n",
       "                    background-color: #383838;\n",
       "                }\n",
       "                    \n",
       "                .geemap-dark .jupyter-button {\n",
       "                    --jp-layout-color3: #383838;\n",
       "                }\n",
       "                \n",
       "                .geemap-colab {\n",
       "                    background-color: var(--colab-primary-surface-color, white);\n",
       "                }\n",
       "                    \n",
       "                .geemap-colab .jupyter-button {\n",
       "                    --jp-layout-color3: var(--colab-primary-surface-color, white);\n",
       "                }\n",
       "            </style>\n",
       "            "
      ],
      "text/plain": [
       "<IPython.core.display.HTML object>"
      ]
     },
     "metadata": {},
     "output_type": "display_data"
    },
    {
     "data": {
      "application/vnd.jupyter.widget-view+json": {
       "model_id": "65c7d7ef1f274a08bfdcd261a6b98b79",
       "version_major": 2,
       "version_minor": 0
      },
      "text/plain": [
       "Map(center=[16.828023952686376, 100.41638539390868], controls=(WidgetControl(options=['position', 'transparent…"
      ]
     },
     "metadata": {},
     "output_type": "display_data"
    }
   ],
   "source": [
    "# กำหนดปีเริ่มและปีสิ้นสุด\n",
    "start_year = 2019\n",
    "end_year = 2023\n",
    "\n",
    "# สร้างวัตถุวันที่สองปีสำหรับปีเริ่มและปีสิ้นสุด\n",
    "start_date = ee.Date.fromYMD(start_year, 1, 1)\n",
    "end_date = ee.Date.fromYMD(end_year + 1, 1, 1)\n",
    "\n",
    "# สร้างรายการปี\n",
    "years = ee.List.sequence(start_year, end_year)\n",
    "\n",
    "# สร้างรายการเดือน\n",
    "months = ee.List.sequence(1, 12)\n",
    "\n",
    "# นำเข้าชุดข้อมูล CHIRPS (Climate Hazards Group InfraRed Precipitation with Station data)\n",
    "CHIRPS = ee.ImageCollection('UCSB-CHG/CHIRPS/PENTAD')\n",
    "\n",
    "# กรองชุดข้อมูลสำหรับช่วงเวลาที่เกี่ยวข้อง\n",
    "CHIRPS = CHIRPS.filterDate(start_date, end_date)\n",
    "\n",
    "# นิยามฟังก์ชันสำหรับคำนวณปริมาณน้ำฝนรายเดือน\n",
    "def calculate_monthly_precip(y):\n",
    "    def calculate_month(m):\n",
    "        # คำนวณปริมาณน้ำฝนรายเดือน\n",
    "        precip = CHIRPS.filter(ee.Filter.calendarRange(y, y, 'year')) \\\n",
    "            .filter(ee.Filter.calendarRange(m, m, 'month')) \\\n",
    "            .sum()\n",
    "\n",
    "        return precip.set('year', y) \\\n",
    "            .set('month', m) \\\n",
    "            .set('system:time_start', ee.Date.fromYMD(y, m, 1))\n",
    "\n",
    "    return months.map(calculate_month)\n",
    "\n",
    "# สร้าง ImageCollection ที่มีข้อมูลปริมาณน้ำฝนรายเดือน\n",
    "monthly_precip = ee.ImageCollection.fromImages(\n",
    "    years.map(calculate_monthly_precip).flatten()\n",
    ")\n",
    "\n",
    "# กำหนดพารามิเตอร์สำหรับการแสดงผล\n",
    "precip_vis = {\n",
    "    'min': 0,\n",
    "    'max': 250,\n",
    "    'palette': ['white', 'blue', 'darkblue', 'red', 'purple']\n",
    "}\n",
    "\n",
    "# สร้างแผนที่ด้วย Geemap (ศูนย์กลางที่ [16.828023952686376, 100.41638539390868], ระดับซูมเป็น 8)\n",
    "Map = geemap.Map(center=[16.828023952686376, 100.41638539390868], zoom=8)\n",
    "\n",
    "# เพิ่มชั้นข้อมูล Precipitation ลงในแผนที่\n",
    "Map.addLayer(monthly_precip.mean().clip(province_boundary),precip_vis,'Precipitation');\n",
    "\n",
    "# เพิ่มตัวควบคุมเลเยอร์ในแผนที่\n",
    "Map.addLayerControl()\n",
    "\n",
    "# แสดงแผนที่\n",
    "Map"
   ]
  },
  {
   "cell_type": "code",
   "execution_count": 30,
   "id": "455eb91e",
   "metadata": {},
   "outputs": [
    {
     "data": {
      "text/html": [
       "\n",
       "            <style>\n",
       "                .geemap-dark {\n",
       "                    --jp-widgets-color: white;\n",
       "                    --jp-widgets-label-color: white;\n",
       "                    --jp-ui-font-color1: white;\n",
       "                    --jp-layout-color2: #454545;\n",
       "                    background-color: #383838;\n",
       "                }\n",
       "                    \n",
       "                .geemap-dark .jupyter-button {\n",
       "                    --jp-layout-color3: #383838;\n",
       "                }\n",
       "                \n",
       "                .geemap-colab {\n",
       "                    background-color: var(--colab-primary-surface-color, white);\n",
       "                }\n",
       "                    \n",
       "                .geemap-colab .jupyter-button {\n",
       "                    --jp-layout-color3: var(--colab-primary-surface-color, white);\n",
       "                }\n",
       "            </style>\n",
       "            "
      ],
      "text/plain": [
       "<IPython.core.display.HTML object>"
      ]
     },
     "metadata": {},
     "output_type": "display_data"
    }
   ],
   "source": [
    "# กำหนดวันที่เริ่มต้นและสิ้นสุด\n",
    "start_date = ee.Date('2019-01-01')\n",
    "end_date = ee.Date('2023-12-31')\n",
    "\n",
    "# นำเข้าข้อมูล GlobalSurfaceWater\n",
    "gsw = ee.Image('JRC/GSW1_4/GlobalSurfaceWater')\n",
    "\n",
    "# กรองข้อมูลในช่วงเวลาที่ต้องการ\n",
    "gsw_filtered = gsw.select('occurrence').updateMask(gsw.select('occurrence')).clip(province_boundary)\n",
    "\n",
    "# เพิ่มแผนที่ GlobalSurfaceWater ที่ถูกกรองเฉพาะช่วงเวลา ลงในแผนที่\n",
    "Map.addLayer(gsw_filtered, {'bands': 'occurrence', 'min': 0, 'max': 100, 'palette': ['red', 'blue']}, 'Surface Water Occurrence')"
   ]
  },
  {
   "cell_type": "markdown",
   "id": "d541b4e3",
   "metadata": {},
   "source": [
    "# ข้อมูลคุณภาพอากาศ"
   ]
  },
  {
   "cell_type": "markdown",
   "id": "4e082f5e",
   "metadata": {},
   "source": [
    "# ก๊าซที่มีผลกระทบต่อคุณภาพอากาศ เช่น คาร์บอนมอนอกไซด์ (CO), ไนโตรเจนไดออกไซด์ (NO2), และซัลเฟอร์ไดออกไซด์ (SO2)"
   ]
  },
  {
   "cell_type": "markdown",
   "id": "1200e990",
   "metadata": {},
   "source": [
    "โค้ดนี้เป็นการใช้ Google Earth Engine เพื่อดึงข้อมูลด้านสิ่งแวดล้อมเกี่ยวกับคุณภาพอากาศ โดยเน้นไปที่ประเภทของก๊าซที่มีผลกระทบต่อคุณภาพอากาศ เช่น คาร์บอนมอนอกไซด์ (CO), ไนโตรเจนไดออกไซด์ (NO2), และซัลเฟอร์ไดออกไซด์ (SO2) ในพื้นที่ของ 9 จังหวัดภาคเหนือในประเทศไทยในช่วงปี 2019-2023 โดยกำหนดวันที่เริ่มต้นและสิ้นสุด และกรองข้อมูลตามขอบเขตของพื้นที่ที่สนใจ (province_boundary) ซึ่งมีการแสดงผลผลลัพธ์บนแผนที่ผ่าน Geemap library ที่มีการกำหนดตัวค่าพารามิเตอร์การแสดงผลแบบสีของแต่ละประเภทก๊าซ ด้วยการใช้พาเลทสีที่แสดงระดับค่าต่าง ๆ ของก๊าซที่วัดได้ตามที่กำหนดไว้ และมีการเพิ่มตัวควบคุมเลเยอร์ในแผนที่เพื่อให้ผู้ใช้สามารถเปิด-ปิดเลเยอร์ต่าง ๆ ได้ตามความต้องการ"
   ]
  },
  {
   "cell_type": "code",
   "execution_count": 31,
   "id": "e880d0d8",
   "metadata": {},
   "outputs": [
    {
     "data": {
      "text/html": [
       "\n",
       "            <style>\n",
       "                .geemap-dark {\n",
       "                    --jp-widgets-color: white;\n",
       "                    --jp-widgets-label-color: white;\n",
       "                    --jp-ui-font-color1: white;\n",
       "                    --jp-layout-color2: #454545;\n",
       "                    background-color: #383838;\n",
       "                }\n",
       "                    \n",
       "                .geemap-dark .jupyter-button {\n",
       "                    --jp-layout-color3: #383838;\n",
       "                }\n",
       "                \n",
       "                .geemap-colab {\n",
       "                    background-color: var(--colab-primary-surface-color, white);\n",
       "                }\n",
       "                    \n",
       "                .geemap-colab .jupyter-button {\n",
       "                    --jp-layout-color3: var(--colab-primary-surface-color, white);\n",
       "                }\n",
       "            </style>\n",
       "            "
      ],
      "text/plain": [
       "<IPython.core.display.HTML object>"
      ]
     },
     "metadata": {},
     "output_type": "display_data"
    },
    {
     "data": {
      "application/vnd.jupyter.widget-view+json": {
       "model_id": "e176f5de65d946a6a532d66e6f96ef08",
       "version_major": 2,
       "version_minor": 0
      },
      "text/plain": [
       "Map(center=[16.828023952686376, 100.41638539390868], controls=(WidgetControl(options=['position', 'transparent…"
      ]
     },
     "metadata": {},
     "output_type": "display_data"
    }
   ],
   "source": [
    "# กำหนดปีเริ่มและปีสิ้นสุด\n",
    "start_year = 2019\n",
    "end_year = 2023\n",
    "\n",
    "# สร้างวัตถุวันที่สองปีสำหรับปีเริ่มและปีสิ้นสุด\n",
    "start_date = ee.Date.fromYMD(start_year, 1, 1)\n",
    "end_date = ee.Date.fromYMD(end_year + 1, 1, 1)\n",
    "\n",
    "# สร้างรายการปี\n",
    "years = ee.List.sequence(start_year, end_year)\n",
    "\n",
    "# สร้างรายการเดือน\n",
    "months = ee.List.sequence(1, 12)\n",
    "\n",
    "# สร้างช่วงวันที่\n",
    "date_range = ee.DateRange(start_date, end_date)\n",
    "\n",
    "# กำหนด ImageCollections\n",
    "collection1 = ee.ImageCollection(\"COPERNICUS/S5P/OFFL/L3_CO\")\\\n",
    ".filterDate(date_range)\\\n",
    ".filterBounds(province_boundary)\\\n",
    ".select('CO_column_number_density')\\\n",
    "\n",
    "collection2 = ee.ImageCollection(\"COPERNICUS/S5P/NRTI/L3_NO2\")\\\n",
    ".filterDate(date_range)\\\n",
    ".filterBounds(province_boundary)\\\n",
    ".select('tropospheric_NO2_column_number_density')\\\n",
    "\n",
    "collection3 = ee.ImageCollection(\"COPERNICUS/S5P/OFFL/L3_SO2\")\\\n",
    ".filterDate(date_range)\\\n",
    ".filterBounds(province_boundary)\\\n",
    ".select('SO2_column_number_density')\\\n",
    "\n",
    "# ลด ImageCollections เพื่อให้ได้ภาพที่มีค่าเฉลี่ย\n",
    "CO_img   = collection1.reduce(ee.Reducer.mean()).clip(province_boundary)\n",
    "NO2_img = collection2.reduce(ee.Reducer.mean()).clip(province_boundary)\n",
    "SO2_img =  collection3.reduce(ee.Reducer.mean()).clip(province_boundary)\n",
    "\n",
    "# กำหนดพารามิเตอร์การแสดงผล\n",
    "CO_viz = {\n",
    "'min': 0.015,\n",
    "'max': 0.033,\n",
    "'palette': ['black', 'blue', 'purple', 'cyan', 'green', 'yellow', 'red']\n",
    "}\n",
    "\n",
    "NO2_viz = {\n",
    "'min': 0.000,\n",
    "'max': 0.001,\n",
    "'palette': ['black', 'blue', 'purple', 'cyan', 'green', 'yellow', 'red']\n",
    "}\n",
    "\n",
    "SO2_viz = {\n",
    "'min': -0.00009,\n",
    "'max': 0.0005,\n",
    "'palette': ['black', 'blue', 'purple', 'cyan', 'green', 'yellow', 'red']\n",
    "}\n",
    "\n",
    "# สร้างแผนที่ด้วย Geemap (ศูนย์กลางที่ [16.828023952686376, 100.41638539390868], ระดับซูมเป็น 8)\n",
    "Map = geemap.Map(center=[16.828023952686376, 100.41638539390868], zoom=8)\n",
    "\n",
    "# เพิ่มชั้นข้อมูล คาร์บอนมอนอกไซด์ (CO) ลงในแผนที่\n",
    "Map.addLayer(CO_img, CO_viz, 'S5P offline Carbon Monoxide(CO)');\n",
    "\n",
    "# เพิ่มชั้นข้อมูล ไนโตรเจนไดออกไซด์ (NO2) ลงในแผนที่\n",
    "Map.addLayer(NO2_img, NO2_viz, 'S5P offline Nitrogen Dioxide(NO2)');\n",
    "\n",
    "# เพิ่มชั้นข้อมูล ซัลเฟอร์ไดออกไซด์ (SO2) ลงในแผนที่\n",
    "Map.addLayer(SO2_img, SO2_viz, 'S5P offline Sulfur Dioxide(SO2)');\n",
    "\n",
    "# เพิ่มตัวควบคุมเลเยอร์ในแผนที่\n",
    "Map.addLayerControl()\n",
    "\n",
    "# แสดงแผนที่\n",
    "Map"
   ]
  },
  {
   "cell_type": "markdown",
   "id": "d788c5c0",
   "metadata": {},
   "source": [
    "# ฝุ่น PM2.5"
   ]
  },
  {
   "cell_type": "markdown",
   "id": "6647c704",
   "metadata": {},
   "source": [
    "ในโค้ดนี้ เริ่มต้นด้วยการกำหนดวันที่เริ่มต้นและวันที่สิ้นสุดของช่วงเวลาที่ต้องการดึงข้อมูลจาก Earth Engine ซึ่งในที่นี้คือชุดข้อมูล Terra & Aqua MAIAC Land Aerosol Optical Depth Daily 1 km ของ MODIS โดยทำการกรองตามช่วงเวลาและพื้นที่ที่กำหนด และเลือกดึงเฉพาะแบนด์ 'Optical_Depth_047' ซึ่งเป็นข้อมูล Aerosol Optical Depth (AOD) ที่คำนวณได้จากรางวัลแสงในช่วงคลื่น 0.47 μm ของกล้อง\n",
    "\n",
    "หลังจากนั้น โค้ดทำการปรับใช้ตัวคูณในการแปลงข้อมูล AOD ให้อยู่ในหน่วยที่ถูกต้อง (0.001) และนำมาเพิ่มเป็นแบนด์ในภาพ ต่อมาได้ทำการนำภาพ AOD มาประมวลผลรวมเข้าด้วยกันในช่วงเวลาที่เลือก และทำการคลิปตามขอบเขตพื้นที่ที่กำหนดไว้ในตัวแปร province_boundary เพื่อให้ได้ภาพที่สะอาดและเหมาะสมกับพื้นที่ที่สนใจ\n",
    "\n",
    "หลังจากนั้น ทำการนำภาพ AOD ที่ได้มาเพื่อทำการแปลงเป็นข้อมูล PM2.5 โดยใช้สมการความสัมพันธ์ที่กำหนดไว้ และนำมาเพิ่มเป็นแบนด์ในภาพ PM2.5 ทำให้สามารถที่จะแสดงข้อมูล PM2.5 ได้ในแผนที่\n",
    "\n",
    "ในส่วนของการแสดงผล (visualization) ได้กำหนดค่าต่าง ๆ ในการแสดงผล AOD และ PM2.5 ในแผนที่ เช่น สีและช่วงค่าที่แสดงผล เพื่อให้สามารถระบุระดับของ AOD และ PM2.5 ได้ด้วยสีในแผนที่อย่างชัดเจน และนำมาเพิ่มลงในแผนที่ที่สร้างขึ้นด้วย Geemap"
   ]
  },
  {
   "cell_type": "code",
   "execution_count": 32,
   "id": "d33cb6a4",
   "metadata": {},
   "outputs": [
    {
     "data": {
      "text/html": [
       "\n",
       "            <style>\n",
       "                .geemap-dark {\n",
       "                    --jp-widgets-color: white;\n",
       "                    --jp-widgets-label-color: white;\n",
       "                    --jp-ui-font-color1: white;\n",
       "                    --jp-layout-color2: #454545;\n",
       "                    background-color: #383838;\n",
       "                }\n",
       "                    \n",
       "                .geemap-dark .jupyter-button {\n",
       "                    --jp-layout-color3: #383838;\n",
       "                }\n",
       "                \n",
       "                .geemap-colab {\n",
       "                    background-color: var(--colab-primary-surface-color, white);\n",
       "                }\n",
       "                    \n",
       "                .geemap-colab .jupyter-button {\n",
       "                    --jp-layout-color3: var(--colab-primary-surface-color, white);\n",
       "                }\n",
       "            </style>\n",
       "            "
      ],
      "text/plain": [
       "<IPython.core.display.HTML object>"
      ]
     },
     "metadata": {},
     "output_type": "display_data"
    }
   ],
   "source": [
    "# กำหนดวันที่เริ่มต้นและวันที่สิ้นสุด\n",
    "dStart = ee.Date('2019-01-01')\n",
    "dEnd = ee.Date(datetime.now())\n",
    "\n",
    "# ชุดข้อมูล Terra & Aqua MAIAC Land Aerosol Optical Depth Daily 1 km\n",
    "dataset = ee.ImageCollection('MODIS/006/MCD19A2_GRANULES') \\\n",
    "    .filterDate(dStart, dEnd) \\\n",
    "    .filter(ee.Filter.bounds(province_boundary)) \\\n",
    "    .select('Optical_Depth_047')\n",
    "\n",
    "# ปรับใช้ตัวคูณ\n",
    "def applyScaleFactors(image):\n",
    "    Depth_047Bands = image.select('Optical_Depth_047').multiply(0.001)\n",
    "    return image.addBands(Depth_047Bands, None, True)\n",
    "\n",
    "# ประมวลผลข้อมูลราวเซ็น\n",
    "collection1 = dataset.map(applyScaleFactors)\n",
    "AOD_img = collection1.mosaic().clip(province_boundary)\n",
    "\n",
    "#  แปลง Terra & Aqua MAIAC เป็น PM 2.5\n",
    "# ใช้สมการความสัมพันธ์: y = 23.89x + 5.18\n",
    "def transform_to_pm25(image):\n",
    "    tpm25 = image.select('Optical_Depth_047').multiply(0.001).multiply(23.89).add(5.18)\n",
    "    return image.addBands(tpm25, None, True)\n",
    "\n",
    "# ประมวลผลข้อมูลราวเซ็น\n",
    "collection2 = dataset.map(transform_to_pm25)\n",
    "PM25_img = collection2.mosaic().clip(province_boundary)\n",
    "\n",
    "#  กำหนดสี palette\n",
    "# โดย palette นี้จะถูกนำมาใช้ในการแสดงผลภาพ\n",
    "AOD_vis = {\n",
    "    'min': 0.029,\n",
    "    'max': 1.476,\n",
    "    'palette': ['white', 'yellow', 'orange', 'red', 'purple', 'black']\n",
    "}\n",
    "pm25_vis = {\n",
    "    'min': 5.873,\n",
    "    'max': 40.434,\n",
    "    'palette': ['white', 'yellow', 'orange', 'red', 'purple', 'black']\n",
    "}\n",
    "\n",
    "# เพิ่มชั้นข้อมูล  Aerosol Optical Depth (AOD) ลงในแผนที่\n",
    "Map.addLayer(AOD_img, AOD_vis, ' Aerosol optical depth over land (0.47 μm)');\n",
    "\n",
    "# เพิ่มชั้นข้อมูล PM2.5 ลงในแผนที่\n",
    "Map.addLayer(PM25_img, pm25_vis, ' Satellite-Based PM2.5');"
   ]
  },
  {
   "cell_type": "code",
   "execution_count": null,
   "id": "8018ec6b",
   "metadata": {},
   "outputs": [],
   "source": []
  },
  {
   "cell_type": "code",
   "execution_count": null,
   "id": "42566ae7",
   "metadata": {},
   "outputs": [],
   "source": []
  }
 ],
 "metadata": {
  "kernelspec": {
   "display_name": "Python 3 (ipykernel)",
   "language": "python",
   "name": "python3"
  },
  "language_info": {
   "codemirror_mode": {
    "name": "ipython",
    "version": 3
   },
   "file_extension": ".py",
   "mimetype": "text/x-python",
   "name": "python",
   "nbconvert_exporter": "python",
   "pygments_lexer": "ipython3",
   "version": "3.9.12"
  }
 },
 "nbformat": 4,
 "nbformat_minor": 5
}
